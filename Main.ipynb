{
 "cells": [
  {
   "cell_type": "markdown",
   "metadata": {},
   "source": [
    "## Importing the Trained Models and the libraries"
   ]
  },
  {
   "cell_type": "code",
   "execution_count": 1,
   "metadata": {},
   "outputs": [],
   "source": [
    "#Importing all major libraries\n",
    "import numpy as np\n",
    "import pandas as pd\n",
    "import matplotlib.pyplot as plt\n",
    "import math\n",
    "import joblib\n",
    "from sklearn.preprocessing import PolynomialFeatures"
   ]
  },
  {
   "cell_type": "code",
   "execution_count": 2,
   "metadata": {},
   "outputs": [],
   "source": [
    "#Importing Temperature Prediction Model,\n",
    "import warnings\n",
    "warnings.filterwarnings('ignore')\n",
    "\n",
    "\n",
    "TEMP = joblib.load('Trained Models/TRandomForest.pkl')"
   ]
  },
  {
   "cell_type": "raw",
   "metadata": {},
   "source": [
    "Note:-\n",
    "Temperature Model takes 7 argument to predict the temperature -> Date, Month, Hour, current heatindex, humidity, rain, temperature 6 hours ago"
   ]
  },
  {
   "cell_type": "code",
   "execution_count": 3,
   "metadata": {},
   "outputs": [],
   "source": [
    "#Importing Precipitation Prediction Model\n",
    "\n",
    "PREC = joblib.load(r'Trained Models/PLogisticRegression.pkl')\n",
    "PPP = joblib.load(r'Trained Models/PRandomForest.pkl')"
   ]
  },
  {
   "cell_type": "raw",
   "metadata": {},
   "source": [
    "Note:-\n",
    "Precipitation Model takes 7 argument to predict the precipitation -> Date, Month, Hour, current dewpoint, humidity, thunder, whether it rained 6 hours ago"
   ]
  },
  {
   "cell_type": "code",
   "execution_count": 5,
   "metadata": {},
   "outputs": [],
   "source": [
    "#Importing Humidity Predcition Model\n",
    "HUM = joblib.load(r'Trained Models/HRandomForest.pkl')\n",
    "HUM_Poly = joblib.load(r'Trained Models/HPolynomialRegression.pkl')\n",
    "poly=PolynomialFeatures(degree=4, include_bias=False)"
   ]
  },
  {
   "cell_type": "raw",
   "metadata": {},
   "source": [
    "Note:-\n",
    "Humidity Model takes 8 argument to predict the humidity -> Date, Month, Hour, dewpt, heatindex, temp, rain, humidity previous"
   ]
  },
  {
   "cell_type": "markdown",
   "metadata": {},
   "source": [
    "## Serializing Data through Arduino (not be runned if not connected to Arduino and the sensors)"
   ]
  },
  {
   "cell_type": "code",
   "execution_count": 32,
   "metadata": {},
   "outputs": [],
   "source": [
    "#%run C:\\Users\\Mayank\\Weather Prediction AI Project\\Machine Learning Models\\Arduino Control.ipynb"
   ]
  },
  {
   "cell_type": "code",
   "execution_count": 47,
   "metadata": {},
   "outputs": [
    {
     "data": {
      "text/plain": [
       "30"
      ]
     },
     "execution_count": 47,
     "metadata": {},
     "output_type": "execute_result"
    }
   ],
   "source": [
    "#Code to be runned with Arduino in connection\n",
    "\n",
    "import serial\n",
    "import time\n",
    "\n",
    "# set up the serial line\n",
    "ser = serial.Serial('COM4', 9600)\n",
    "time.sleep(2)\n",
    "\n",
    "# Read and record the data\n",
    "data =[]                       # empty list to store the data\n",
    "for i in range(1):\n",
    "    b = ser.readline()         # read a byte string\n",
    "    string_n = b.decode()  # decode byte string into Unicode  \n",
    "    string = string_n.rstrip() # remove \\n and \\r       # convert string to float\n",
    "    print(string)\n",
    "    data.append(string)           # add to the end of data list\n",
    "    time.sleep(0.1)            # wait (sleep) 0.1 seconds\n",
    "\n",
    "ser.close()\n",
    "\n",
    "l=[]\n",
    "\n",
    "for line in data:\n",
    "    l.append(data)\n",
    "    print(line)\n",
    "\n",
    "import matplotlib.pyplot as plt\n",
    "%matplotlib inline\n",
    "\n",
    "plt.plot(data)\n",
    "plt.xlabel('Time (seconds)')\n",
    "plt.ylabel('Potentiometer Reading')\n",
    "plt.title('Potentiometer Reading vs. Time')\n",
    "plt.show()"
   ]
  },
  {
   "cell_type": "code",
   "execution_count": null,
   "metadata": {},
   "outputs": [],
   "source": [
    "#Code to split and use the data for predictions\n",
    "\n",
    "s=l[0]\n",
    "print(s)\n",
    "l=s[0].split()\n",
    "h=float(l[1])\n",
    "t=int(l[3])"
   ]
  },
  {
   "cell_type": "markdown",
   "metadata": {},
   "source": [
    "## Taking the input manually (use it, if not connected to Arduino and required sensors)"
   ]
  },
  {
   "cell_type": "code",
   "execution_count": 6,
   "metadata": {},
   "outputs": [
    {
     "name": "stdout",
     "output_type": "stream",
     "text": [
      "Enter the temperature in Celsuius:30\n",
      "Enter the relative humidity: 67\n",
      "Tell whether it is raining presently or not, 0 for no and 1 for yes: 0\n",
      "Enter the temperature in Celsuius, 6 hours ago:32\n",
      "Enter the relative humidity, 6 hours ago:: 70\n",
      "Tell whether it is raining presently or not, 0 for no and 1 for yes, 6 hours ago:: 0\n"
     ]
    }
   ],
   "source": [
    "#Taking all the initial variables with their values some value are taken as input which are automatically taken upon integration with Hardware\n",
    "\n",
    "t=int(input(\"Enter the temperature in Celsuius:\"))\n",
    "h=int(input(\"Enter the relative humidity: \"))\n",
    "p=int(input(\"Tell whether it is raining presently or not, 0 for no and 1 for yes: \"))\n",
    "\n",
    "t6=int(input(\"Enter the temperature in Celsuius, 6 hours ago:\"))\n",
    "h6=int(input(\"Enter the relative humidity, 6 hours ago:: \"))\n",
    "p6=int(input(\"Tell whether it is raining presently or not, 0 for no and 1 for yes, 6 hours ago:: \"))"
   ]
  },
  {
   "cell_type": "markdown",
   "metadata": {},
   "source": [
    "### Function to calculate Dew Point"
   ]
  },
  {
   "cell_type": "code",
   "execution_count": 7,
   "metadata": {},
   "outputs": [],
   "source": [
    "#Dew Point\n",
    "\n",
    "def ln(n):\n",
    "    return np.log(n)\n",
    "\n",
    "def Tdew(T,H):\n",
    "    nl =ln(H/100)\n",
    "    s=237.3+T\n",
    "    m=17.27*T\n",
    "    TD = (237.3*(nl+(m/s)))/(17.27+(-1)*(nl+(m/s)))    \n",
    "    return TD"
   ]
  },
  {
   "cell_type": "markdown",
   "metadata": {},
   "source": [
    "### Function to calculate Heat Index"
   ]
  },
  {
   "cell_type": "code",
   "execution_count": 8,
   "metadata": {},
   "outputs": [],
   "source": [
    "#Heat Index\n",
    "\n",
    "def HI(t,H):\n",
    "    c1 = -42.379\n",
    "    c2= 2.04901523\n",
    "    c3 = 10.14333127\n",
    "    c4 = -0.22475541\n",
    "    c5 = -6.83783 *(0.001)\n",
    "    c6 = -5.481717 * (0.01)\n",
    "    c7 = 1.22874 * (0.001)\n",
    "    c8 = 8.5282 * (0.0001)\n",
    "    c9 = -1.99 * (0.000001)\n",
    "    T=(1.8*t)+32\n",
    "    HI=c1+(c2*T)+(c3*H)+(c4*T*H)+(c5*T*T)+(c6*H*H)+(c7*T*H*T)+(c8*T*H*H)+(c9*T*H*T*H)\n",
    "    FHI=((HI-32)*5)/9\n",
    "    return FHI"
   ]
  },
  {
   "cell_type": "markdown",
   "metadata": {},
   "source": [
    "## Initializing required variables and the list to store the data"
   ]
  },
  {
   "cell_type": "code",
   "execution_count": 9,
   "metadata": {},
   "outputs": [],
   "source": [
    "#For hourly, daily, weekly and min max temp details\n",
    "L=[]\n",
    "\n",
    "from datetime import datetime\n",
    "datetime.today()\n",
    "date=datetime.now()\n",
    "\n",
    "da=date.day\n",
    "hr=date.hour\n",
    "mn=date.month"
   ]
  },
  {
   "cell_type": "code",
   "execution_count": 10,
   "metadata": {},
   "outputs": [
    {
     "name": "stdout",
     "output_type": "stream",
     "text": [
      "67 0 30\n"
     ]
    }
   ],
   "source": [
    "#RH,P,T are for current data\n",
    "#RH is relative humidity, P is precipitation, T is temperature, \n",
    "RH=h\n",
    "P=p\n",
    "T=t\n",
    "print(RH,P,T)\n",
    "\n",
    "#List for data  (d stands for day)\n",
    "dd=[] #dew point\n",
    "hid=[] #heat index\n",
    "td=[]\n",
    "hd=[]\n",
    "pd_=[]\n",
    "\n",
    "\n",
    "#Variables and list for data  (r stands for representation i.e. plotting the data)\n",
    "DR=[]\n",
    "HIR=[]\n",
    "TR=[]\n",
    "HR=[]\n",
    "PR=[]\n",
    "\n",
    "#Calculating Maximum and minimum temperatures\n",
    "MxT=[]\n",
    "MnT=[]"
   ]
  },
  {
   "cell_type": "markdown",
   "metadata": {},
   "source": [
    "## Predicting the temperature 10 days in advance at an interval of 6 hours"
   ]
  },
  {
   "cell_type": "code",
   "execution_count": 11,
   "metadata": {},
   "outputs": [],
   "source": [
    "for d in range(0,11):\n",
    "    for h in range(0,5):\n",
    "        \n",
    "        #TP,PP,HP are for 1 hour in future data\n",
    "        \n",
    "        dewpoint=Tdew(T,RH)\n",
    "        #print(\"Dew Point at\",hr,da,mn,\"is equal to\",dewpoint)\n",
    "                \n",
    "        heatindex=HI(T,RH)\n",
    "        #print(\"Heat Index at\",hr,da,mn,\"is equal to\",heatindex)\n",
    "        \n",
    "        t_=np.array([da,mn,hr,heatindex,RH,P,t6]).reshape(1,-1)\n",
    "        TP=list(TEMP.predict(t_))[0]\n",
    "        #print(\"Temperature predicted at\",hr,da,mn,\"is equal to\",TP)\n",
    "        \n",
    "        p_=np.array([da,mn,hr,dewpoint,RH,1,p6]).reshape(1,-1)\n",
    "        PP=list(PREC.predict(p_))[0]\n",
    "        #print(\"Precipitation predicted at\",hr,da,mn,\"is equal to\",PP)\n",
    "        \n",
    "        h_=np.array([da,mn,hr,dewpoint,heatindex,T,P,h6]).reshape(1, -1)\n",
    "        HP=list(HUM.predict(h_))[0]\n",
    "        #x=poly.fit_transform(h_)\n",
    "        #HP=HUM_Poly.predict(x)\n",
    "        #print(\"Humidity predicted at\",hr,da,mn,\"is equal to\",HP)\n",
    "        \n",
    "        #print(\"\")\n",
    "        \n",
    "        #Adding prediction for a day list to take the mean\n",
    "        dd.append(dewpoint)\n",
    "        hid.append(heatindex)\n",
    "        td.append(TP)\n",
    "        hd.append(HP)\n",
    "        pd_.append(PP)\n",
    "        \n",
    "        \n",
    "        #Upddating THE previous variables\n",
    "        t6=T\n",
    "        h6=RH\n",
    "        p6=P\n",
    "                \n",
    "        T=TP\n",
    "        RH=HP\n",
    "        P=PP\n",
    "                \n",
    "        #Updating Date and Time is final\n",
    "        hr+=6\n",
    "        if hr>=24:\n",
    "            hr=0\n",
    "            h=24\n",
    "            da+=1\n",
    "        if da==31:\n",
    "            mn+=1\n",
    "            da=1\n",
    "    \n",
    "    #Calculating mean of all the variables for a day\n",
    "    DR.append(np.mean(dd))\n",
    "    HIR.append(np.mean(hid))\n",
    "    TR.append(np.mean(td))\n",
    "    HR.append(np.mean(hd))\n",
    "    PR.append(np.mean(pd_))\n",
    "    \n",
    "    #Calculating Maximum and Minimum Temperature\n",
    "    MxT.append(max(td))\n",
    "    MnT.append(min(td))\n",
    "    \n",
    "    dd.clear()\n",
    "    hid.clear()\n",
    "    td.clear()\n",
    "    hd.clear()\n",
    "    pd_.clear()\n",
    "    "
   ]
  },
  {
   "cell_type": "markdown",
   "metadata": {},
   "source": [
    "## Representing the data"
   ]
  },
  {
   "cell_type": "code",
   "execution_count": 12,
   "metadata": {},
   "outputs": [],
   "source": [
    "DR=np.array(DR)\n",
    "HIR=np.array(HIR)\n",
    "TR=np.array(TR)\n",
    "HR=np.array(HR)\n",
    "PR=np.array(PR)\n",
    "MxT=np.array(MxT)\n",
    "MnT=np.array(MnT)"
   ]
  },
  {
   "cell_type": "code",
   "execution_count": 13,
   "metadata": {},
   "outputs": [
    {
     "name": "stdout",
     "output_type": "stream",
     "text": [
      "Date 20-3-2023\n",
      "\n",
      "Maximum Temperature is: 23.89\n",
      "Minimum Temperature is: 17.63\n",
      "It will not rain\n",
      "Dew point is: 15.963632751378332\n",
      "Heat Index is: 26.759215570224267\n",
      "Humidity is: 63.70400000000001 %\n",
      "\n",
      "\n",
      "Date 21-3-2023\n",
      "\n",
      "Maximum Temperature is: 24.43\n",
      "Minimum Temperature is: 19.5\n",
      "It will not rain\n",
      "Dew point is: 15.320504241626688\n",
      "Heat Index is: 24.832745454431695\n",
      "Humidity is: 61.2275 %\n",
      "\n",
      "\n",
      "Date 22-3-2023\n",
      "\n",
      "Maximum Temperature is: 24.86\n",
      "Minimum Temperature is: 20.6\n",
      "It will not rain\n",
      "Dew point is: 14.14593678925365\n",
      "Heat Index is: 24.86524456964011\n",
      "Humidity is: 59.6032 %\n",
      "\n",
      "\n",
      "Date 23-3-2023\n",
      "\n",
      "Maximum Temperature is: 25.97\n",
      "Minimum Temperature is: 20.66\n",
      "It will not rain\n",
      "Dew point is: 15.355905991845827\n",
      "Heat Index is: 25.40805552137866\n",
      "Humidity is: 63.724000000000004 %\n",
      "\n",
      "\n",
      "Date 24-3-2023\n",
      "\n",
      "Maximum Temperature is: 25.93\n",
      "Minimum Temperature is: 21.16\n",
      "It will not rain\n",
      "Dew point is: 15.441275916540912\n",
      "Heat Index is: 25.693541999488332\n",
      "Humidity is: 56.75866666666667 %\n",
      "\n",
      "\n",
      "Date 25-3-2023\n",
      "\n",
      "Maximum Temperature is: 26.45\n",
      "Minimum Temperature is: 19.95\n",
      "It will not rain\n",
      "Dew point is: 13.438570316111088\n",
      "Heat Index is: 25.77680458806368\n",
      "Humidity is: 53.5 %\n",
      "\n",
      "\n",
      "Date 26-3-2023\n",
      "\n",
      "Maximum Temperature is: 26.69\n",
      "Minimum Temperature is: 20.15\n",
      "It will not rain\n",
      "Dew point is: 12.613004600728294\n",
      "Heat Index is: 25.960069724604686\n",
      "Humidity is: 51.96 %\n",
      "\n",
      "\n",
      "Date 27-3-2023\n",
      "\n",
      "Maximum Temperature is: 26.72\n",
      "Minimum Temperature is: 20.7\n",
      "It will not rain\n",
      "Dew point is: 14.90580319726051\n",
      "Heat Index is: 26.355337080820345\n",
      "Humidity is: 56.67100000000001 %\n",
      "\n",
      "\n",
      "Date 28-3-2023\n",
      "\n",
      "Maximum Temperature is: 25.13\n",
      "Minimum Temperature is: 21.95\n",
      "It will not rain\n",
      "Dew point is: 15.911433598354517\n",
      "Heat Index is: 25.722564132535542\n",
      "Humidity is: 59.412333333333336 %\n",
      "\n",
      "\n",
      "Date 29-3-2023\n",
      "\n",
      "Maximum Temperature is: 24.72\n",
      "Minimum Temperature is: 20.12\n",
      "It will not rain\n",
      "Dew point is: 14.702471058194945\n",
      "Heat Index is: 24.980017468133763\n",
      "Humidity is: 59.072500000000005 %\n",
      "\n",
      "\n"
     ]
    }
   ],
   "source": [
    "da=date.day\n",
    "mn=date.month\n",
    "yr=date.year\n",
    "\n",
    "if da==31:\n",
    "    mn+=1\n",
    "    da=1\n",
    "\n",
    "''''def Gen():\n",
    "    for i in range(1,15):\n",
    "        yield i\n",
    "x=Gen() '''\n",
    "\n",
    "for i in range(10):\n",
    "    print(\"Date\",\" \",da,\"-\",mn,\"-\",yr,sep='')\n",
    "    print(\"\")\n",
    "    print(\"Maximum Temperature is:\",MxT[i])\n",
    "    print(\"Minimum Temperature is:\",MnT[i])\n",
    "    if PR[i]>0:\n",
    "        print(\"It will rain probability is\",PR[i]*100,'%')\n",
    "    else:\n",
    "        print(\"It will not rain\")\n",
    "    print(\"Dew point is:\",DR[i])\n",
    "    print(\"Heat Index is:\",HIR[i])\n",
    "    print(\"Humidity is:\",HR[i],'%')\n",
    "    \n",
    "    print()\n",
    "    print()\n",
    "    \n",
    "    i+=1\n",
    "    da+=1\n",
    "    \n",
    "    \n",
    "    if da==31:\n",
    "        mn = mn+1\n",
    "        da=1\n",
    "    "
   ]
  },
  {
   "cell_type": "code",
   "execution_count": 14,
   "metadata": {},
   "outputs": [
    {
     "name": "stdout",
     "output_type": "stream",
     "text": [
      "Dew Point\n"
     ]
    },
    {
     "data": {
      "image/png": "[encoded data removed]",
      "text/plain": [
       "<Figure size 432x288 with 1 Axes>"
      ]
     },
     "metadata": {
      "needs_background": "light"
     },
     "output_type": "display_data"
    },
    {
     "name": "stdout",
     "output_type": "stream",
     "text": [
      "Heat Index\n"
     ]
    },
    {
     "data": {
      "image/png": "[encoded data removed]",
      "text/plain": [
       "<Figure size 432x288 with 1 Axes>"
      ]
     },
     "metadata": {
      "needs_background": "light"
     },
     "output_type": "display_data"
    },
    {
     "name": "stdout",
     "output_type": "stream",
     "text": [
      "Temperature\n"
     ]
    },
    {
     "data": {
      "image/png": "[encoded data removed]",
      "text/plain": [
       "<Figure size 432x288 with 1 Axes>"
      ]
     },
     "metadata": {
      "needs_background": "light"
     },
     "output_type": "display_data"
    },
    {
     "name": "stdout",
     "output_type": "stream",
     "text": [
      "Precipitation chances\n"
     ]
    },
    {
     "data": {
      "image/png": "[encoded data removed]",
      "text/plain": [
       "<Figure size 432x288 with 1 Axes>"
      ]
     },
     "metadata": {
      "needs_background": "light"
     },
     "output_type": "display_data"
    },
    {
     "name": "stdout",
     "output_type": "stream",
     "text": [
      "Humidity\n"
     ]
    },
    {
     "data": {
      "image/png": "[encoded data removed]",
      "text/plain": [
       "<Figure size 432x288 with 1 Axes>"
      ]
     },
     "metadata": {
      "needs_background": "light"
     },
     "output_type": "display_data"
    }
   ],
   "source": [
    "da=date.day\n",
    "Day=np.arange(da,da+11)\n",
    "\n",
    "#Plotting Dew Point\n",
    "print(\"Dew Point\")\n",
    "plt.xlabel(\"Date\")\n",
    "plt.ylabel(\"Dew Point\")\n",
    "plt.plot(Day,DR)\n",
    "plt.show()\n",
    "\n",
    "#Plotting Heat Index\n",
    "print(\"Heat Index\")\n",
    "plt.xlabel(\"Date\")\n",
    "plt.ylabel(\"Heat Index\")\n",
    "plt.plot(Day,HIR)\n",
    "plt.show()\n",
    "\n",
    "#Plotting Temperature\n",
    "print(\"Temperature\")\n",
    "plt.xlabel(\"Date\")\n",
    "plt.ylabel(\"Temperature\")\n",
    "plt.plot(Day,TR)\n",
    "plt.show()\n",
    "\n",
    "#Plotting Precipitation\n",
    "print(\"Precipitation chances\")\n",
    "plt.xlabel(\"Date\")\n",
    "plt.ylabel(\"Precipitation\")\n",
    "plt.plot(Day,PR*100)\n",
    "plt.show()\n",
    "\n",
    "#Plotting Humidity\n",
    "print(\"Humidity\")\n",
    "plt.xlabel(\"Date\")\n",
    "plt.ylabel(\"Humidity\")\n",
    "plt.plot(Day,HR)\n",
    "plt.show()"
   ]
  }
 ],
 "metadata": {
  "kernelspec": {
   "display_name": "Python 3 (ipykernel)",
   "language": "python",
   "name": "python3"
  },
  "language_info": {
   "codemirror_mode": {
    "name": "ipython",
    "version": 3
   },
   "file_extension": ".py",
   "mimetype": "text/x-python",
   "name": "python",
   "nbconvert_exporter": "python",
   "pygments_lexer": "ipython3",
   "version": "3.9.7"
  }
 },
 "nbformat": 4,
 "nbformat_minor": 2
}
