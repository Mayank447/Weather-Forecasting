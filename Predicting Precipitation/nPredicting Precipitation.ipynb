{
 "cells": [
  {
   "cell_type": "code",
   "execution_count": 1,
   "metadata": {},
   "outputs": [],
   "source": [
    "#Importing all the libraries and modules\n",
    "import warnings\n",
    "warnings.filterwarnings('ignore')\n",
    "import numpy as np\n",
    "import pandas as pd\n",
    "from matplotlib import pyplot as plt\n",
    "%matplotlib inline\n",
    "import joblib\n",
    "\n",
    "import sklearn\n",
    "from sklearn.model_selection import train_test_split\n",
    "from sklearn.metrics import accuracy_score\n",
    "\n",
    "from sklearn.linear_model import LinearRegression\n",
    "from sklearn import preprocessing"
   ]
  },
  {
   "cell_type": "code",
   "execution_count": 2,
   "metadata": {},
   "outputs": [],
   "source": [
    "import seaborn as sns\n",
    "import math"
   ]
  },
  {
   "cell_type": "code",
   "execution_count": 6,
   "metadata": {},
   "outputs": [],
   "source": [
    "weather_df=pd.read_csv(r'../Final Datasets/nRainfall.csv')"
   ]
  },
  {
   "cell_type": "code",
   "execution_count": 7,
   "metadata": {},
   "outputs": [
    {
     "data": {
      "text/plain": [
       "(100990, 10)"
      ]
     },
     "execution_count": 7,
     "metadata": {},
     "output_type": "execute_result"
    }
   ],
   "source": [
    "weather_df.shape"
   ]
  },
  {
   "cell_type": "code",
   "execution_count": 8,
   "metadata": {},
   "outputs": [
    {
     "data": {
      "text/html": [
       "<div>\n",
       "<style scoped>\n",
       "    .dataframe tbody tr th:only-of-type {\n",
       "        vertical-align: middle;\n",
       "    }\n",
       "\n",
       "    .dataframe tbody tr th {\n",
       "        vertical-align: top;\n",
       "    }\n",
       "\n",
       "    .dataframe thead th {\n",
       "        text-align: right;\n",
       "    }\n",
       "</style>\n",
       "<table border=\"1\" class=\"dataframe\">\n",
       "  <thead>\n",
       "    <tr style=\"text-align: right;\">\n",
       "      <th></th>\n",
       "      <th>Date</th>\n",
       "      <th>Month</th>\n",
       "      <th>Hour</th>\n",
       "      <th>dewpt</th>\n",
       "      <th>humidity</th>\n",
       "      <th>rain</th>\n",
       "      <th>thunder</th>\n",
       "      <th>rain previous</th>\n",
       "      <th>temp</th>\n",
       "    </tr>\n",
       "  </thead>\n",
       "  <tbody>\n",
       "    <tr>\n",
       "      <th>count</th>\n",
       "      <td>100990.000000</td>\n",
       "      <td>100990.000000</td>\n",
       "      <td>100990.000000</td>\n",
       "      <td>100369.000000</td>\n",
       "      <td>100233.000000</td>\n",
       "      <td>100990.000000</td>\n",
       "      <td>100990.000000</td>\n",
       "      <td>100990.000000</td>\n",
       "      <td>100317.000000</td>\n",
       "    </tr>\n",
       "    <tr>\n",
       "      <th>mean</th>\n",
       "      <td>15.690049</td>\n",
       "      <td>6.579344</td>\n",
       "      <td>10.928844</td>\n",
       "      <td>15.741205</td>\n",
       "      <td>57.909481</td>\n",
       "      <td>0.026260</td>\n",
       "      <td>0.009427</td>\n",
       "      <td>0.026260</td>\n",
       "      <td>25.451269</td>\n",
       "    </tr>\n",
       "    <tr>\n",
       "      <th>std</th>\n",
       "      <td>8.769718</td>\n",
       "      <td>3.475841</td>\n",
       "      <td>6.854328</td>\n",
       "      <td>7.058587</td>\n",
       "      <td>23.807771</td>\n",
       "      <td>0.159908</td>\n",
       "      <td>0.096633</td>\n",
       "      <td>0.159908</td>\n",
       "      <td>8.482859</td>\n",
       "    </tr>\n",
       "    <tr>\n",
       "      <th>min</th>\n",
       "      <td>1.000000</td>\n",
       "      <td>1.000000</td>\n",
       "      <td>0.000000</td>\n",
       "      <td>-24.000000</td>\n",
       "      <td>4.000000</td>\n",
       "      <td>0.000000</td>\n",
       "      <td>0.000000</td>\n",
       "      <td>0.000000</td>\n",
       "      <td>1.000000</td>\n",
       "    </tr>\n",
       "    <tr>\n",
       "      <th>25%</th>\n",
       "      <td>8.000000</td>\n",
       "      <td>4.000000</td>\n",
       "      <td>5.000000</td>\n",
       "      <td>10.000000</td>\n",
       "      <td>39.000000</td>\n",
       "      <td>0.000000</td>\n",
       "      <td>0.000000</td>\n",
       "      <td>0.000000</td>\n",
       "      <td>19.000000</td>\n",
       "    </tr>\n",
       "    <tr>\n",
       "      <th>50%</th>\n",
       "      <td>16.000000</td>\n",
       "      <td>7.000000</td>\n",
       "      <td>11.000000</td>\n",
       "      <td>15.000000</td>\n",
       "      <td>59.000000</td>\n",
       "      <td>0.000000</td>\n",
       "      <td>0.000000</td>\n",
       "      <td>0.000000</td>\n",
       "      <td>27.000000</td>\n",
       "    </tr>\n",
       "    <tr>\n",
       "      <th>75%</th>\n",
       "      <td>23.000000</td>\n",
       "      <td>10.000000</td>\n",
       "      <td>17.000000</td>\n",
       "      <td>22.000000</td>\n",
       "      <td>78.000000</td>\n",
       "      <td>0.000000</td>\n",
       "      <td>0.000000</td>\n",
       "      <td>0.000000</td>\n",
       "      <td>32.000000</td>\n",
       "    </tr>\n",
       "    <tr>\n",
       "      <th>max</th>\n",
       "      <td>31.000000</td>\n",
       "      <td>12.000000</td>\n",
       "      <td>23.000000</td>\n",
       "      <td>75.000000</td>\n",
       "      <td>243.000000</td>\n",
       "      <td>1.000000</td>\n",
       "      <td>1.000000</td>\n",
       "      <td>1.000000</td>\n",
       "      <td>90.000000</td>\n",
       "    </tr>\n",
       "  </tbody>\n",
       "</table>\n",
       "</div>"
      ],
      "text/plain": [
       "                Date          Month           Hour          dewpt  \\\n",
       "count  100990.000000  100990.000000  100990.000000  100369.000000   \n",
       "mean       15.690049       6.579344      10.928844      15.741205   \n",
       "std         8.769718       3.475841       6.854328       7.058587   \n",
       "min         1.000000       1.000000       0.000000     -24.000000   \n",
       "25%         8.000000       4.000000       5.000000      10.000000   \n",
       "50%        16.000000       7.000000      11.000000      15.000000   \n",
       "75%        23.000000      10.000000      17.000000      22.000000   \n",
       "max        31.000000      12.000000      23.000000      75.000000   \n",
       "\n",
       "            humidity           rain        thunder  rain previous  \\\n",
       "count  100233.000000  100990.000000  100990.000000  100990.000000   \n",
       "mean       57.909481       0.026260       0.009427       0.026260   \n",
       "std        23.807771       0.159908       0.096633       0.159908   \n",
       "min         4.000000       0.000000       0.000000       0.000000   \n",
       "25%        39.000000       0.000000       0.000000       0.000000   \n",
       "50%        59.000000       0.000000       0.000000       0.000000   \n",
       "75%        78.000000       0.000000       0.000000       0.000000   \n",
       "max       243.000000       1.000000       1.000000       1.000000   \n",
       "\n",
       "                temp  \n",
       "count  100317.000000  \n",
       "mean       25.451269  \n",
       "std         8.482859  \n",
       "min         1.000000  \n",
       "25%        19.000000  \n",
       "50%        27.000000  \n",
       "75%        32.000000  \n",
       "max        90.000000  "
      ]
     },
     "execution_count": 8,
     "metadata": {},
     "output_type": "execute_result"
    }
   ],
   "source": [
    "weather_df.describe()"
   ]
  },
  {
   "cell_type": "code",
   "execution_count": 9,
   "metadata": {},
   "outputs": [
    {
     "data": {
      "text/html": [
       "<div>\n",
       "<style scoped>\n",
       "    .dataframe tbody tr th:only-of-type {\n",
       "        vertical-align: middle;\n",
       "    }\n",
       "\n",
       "    .dataframe tbody tr th {\n",
       "        vertical-align: top;\n",
       "    }\n",
       "\n",
       "    .dataframe thead th {\n",
       "        text-align: right;\n",
       "    }\n",
       "</style>\n",
       "<table border=\"1\" class=\"dataframe\">\n",
       "  <thead>\n",
       "    <tr style=\"text-align: right;\">\n",
       "      <th></th>\n",
       "      <th>Date</th>\n",
       "      <th>Month</th>\n",
       "      <th>Hour</th>\n",
       "      <th>Time</th>\n",
       "      <th>dewpt</th>\n",
       "      <th>humidity</th>\n",
       "      <th>rain</th>\n",
       "      <th>thunder</th>\n",
       "      <th>rain previous</th>\n",
       "      <th>temp</th>\n",
       "    </tr>\n",
       "  </thead>\n",
       "  <tbody>\n",
       "    <tr>\n",
       "      <th>0</th>\n",
       "      <td>1</td>\n",
       "      <td>11</td>\n",
       "      <td>11</td>\n",
       "      <td>11:00</td>\n",
       "      <td>9.0</td>\n",
       "      <td>27.0</td>\n",
       "      <td>0</td>\n",
       "      <td>0</td>\n",
       "      <td>0</td>\n",
       "      <td>30.0</td>\n",
       "    </tr>\n",
       "    <tr>\n",
       "      <th>1</th>\n",
       "      <td>1</td>\n",
       "      <td>11</td>\n",
       "      <td>12</td>\n",
       "      <td>12:00</td>\n",
       "      <td>10.0</td>\n",
       "      <td>32.0</td>\n",
       "      <td>0</td>\n",
       "      <td>0</td>\n",
       "      <td>0</td>\n",
       "      <td>28.0</td>\n",
       "    </tr>\n",
       "    <tr>\n",
       "      <th>2</th>\n",
       "      <td>1</td>\n",
       "      <td>11</td>\n",
       "      <td>13</td>\n",
       "      <td>13:00</td>\n",
       "      <td>11.0</td>\n",
       "      <td>44.0</td>\n",
       "      <td>0</td>\n",
       "      <td>0</td>\n",
       "      <td>0</td>\n",
       "      <td>24.0</td>\n",
       "    </tr>\n",
       "    <tr>\n",
       "      <th>3</th>\n",
       "      <td>1</td>\n",
       "      <td>11</td>\n",
       "      <td>14</td>\n",
       "      <td>14:00</td>\n",
       "      <td>10.0</td>\n",
       "      <td>41.0</td>\n",
       "      <td>0</td>\n",
       "      <td>0</td>\n",
       "      <td>0</td>\n",
       "      <td>24.0</td>\n",
       "    </tr>\n",
       "    <tr>\n",
       "      <th>4</th>\n",
       "      <td>1</td>\n",
       "      <td>11</td>\n",
       "      <td>16</td>\n",
       "      <td>16:00</td>\n",
       "      <td>11.0</td>\n",
       "      <td>47.0</td>\n",
       "      <td>0</td>\n",
       "      <td>0</td>\n",
       "      <td>0</td>\n",
       "      <td>23.0</td>\n",
       "    </tr>\n",
       "  </tbody>\n",
       "</table>\n",
       "</div>"
      ],
      "text/plain": [
       "   Date  Month  Hour   Time  dewpt  humidity  rain  thunder  rain previous  \\\n",
       "0     1     11    11  11:00    9.0      27.0     0        0              0   \n",
       "1     1     11    12  12:00   10.0      32.0     0        0              0   \n",
       "2     1     11    13  13:00   11.0      44.0     0        0              0   \n",
       "3     1     11    14  14:00   10.0      41.0     0        0              0   \n",
       "4     1     11    16  16:00   11.0      47.0     0        0              0   \n",
       "\n",
       "   temp  \n",
       "0  30.0  \n",
       "1  28.0  \n",
       "2  24.0  \n",
       "3  24.0  \n",
       "4  23.0  "
      ]
     },
     "execution_count": 9,
     "metadata": {},
     "output_type": "execute_result"
    }
   ],
   "source": [
    "weather_df.head()"
   ]
  },
  {
   "cell_type": "code",
   "execution_count": 10,
   "metadata": {},
   "outputs": [
    {
     "data": {
      "text/plain": [
       "<AxesSubplot:xlabel='rain', ylabel='count'>"
      ]
     },
     "execution_count": 10,
     "metadata": {},
     "output_type": "execute_result"
    },
    {
     "data": {
      "image/png": "[encoded data removed]",
      "text/plain": [
       "<Figure size 432x288 with 1 Axes>"
      ]
     },
     "metadata": {
      "needs_background": "light"
     },
     "output_type": "display_data"
    }
   ],
   "source": [
    "#Analyzing Data\n",
    "sns.countplot(x=\"rain\",hue=\"Month\",data=weather_df)"
   ]
  },
  {
   "cell_type": "code",
   "execution_count": 11,
   "metadata": {},
   "outputs": [
    {
     "data": {
      "text/plain": [
       "<AxesSubplot:ylabel='Frequency'>"
      ]
     },
     "execution_count": 11,
     "metadata": {},
     "output_type": "execute_result"
    },
    {
     "data": {
      "image/png": "[encoded data removed]",
      "text/plain": [
       "<Figure size 432x288 with 1 Axes>"
      ]
     },
     "metadata": {
      "needs_background": "light"
     },
     "output_type": "display_data"
    }
   ],
   "source": [
    "weather_df[\"humidity\"].plot.hist()"
   ]
  },
  {
   "cell_type": "markdown",
   "metadata": {},
   "source": [
    "Pre-Processing the data"
   ]
  },
  {
   "cell_type": "markdown",
   "metadata": {},
   "source": [
    "# Preprocessing the data"
   ]
  },
  {
   "cell_type": "code",
   "execution_count": 12,
   "metadata": {},
   "outputs": [
    {
     "name": "stdout",
     "output_type": "stream",
     "text": [
      "Date             False\n",
      "Month            False\n",
      "Hour             False\n",
      "Time             False\n",
      "dewpt             True\n",
      "humidity          True\n",
      "rain             False\n",
      "thunder          False\n",
      "rain previous    False\n",
      "temp              True\n",
      "dtype: bool\n"
     ]
    }
   ],
   "source": [
    "print(weather_df.isnull().any())"
   ]
  },
  {
   "cell_type": "code",
   "execution_count": 13,
   "metadata": {},
   "outputs": [],
   "source": [
    "# Temperature\n",
    "def replace(j):\n",
    "    if weather_df[\"temp\"][j]!=(-10):\n",
    "        return weather_df[\"temp\"][j]\n",
    "    else:\n",
    "        return replace(j+1)\n",
    "        \n",
    "weather_df[\"temp\"].fillna(-10, inplace = True)\n",
    "\n",
    "for i in range(100990):\n",
    "    if weather_df[\"temp\"][i]==-10:\n",
    "        weather_df[\"temp\"][i]=(replace(i+1)+weather_df[\"temp\"][i-1])/2\n",
    "    elif weather_df[\"temp\"][i]>=50:\n",
    "        weather_df[\"temp\"][i]=(weather_df[\"temp\"][i-1]+weather_df[\"temp\"][i+1])/2\n",
    "        "
   ]
  },
  {
   "cell_type": "code",
   "execution_count": 14,
   "metadata": {},
   "outputs": [
    {
     "data": {
      "text/plain": [
       "15.5"
      ]
     },
     "execution_count": 14,
     "metadata": {},
     "output_type": "execute_result"
    }
   ],
   "source": [
    "weather_df[\"temp\"][124]"
   ]
  },
  {
   "cell_type": "code",
   "execution_count": 15,
   "metadata": {},
   "outputs": [
    {
     "name": "stdout",
     "output_type": "stream",
     "text": [
      "False\n"
     ]
    }
   ],
   "source": [
    "# Humidity\n",
    "weather_df[\"humidity\"].fillna(-100, inplace = True)\n",
    "\n",
    "print(weather_df[\"humidity\"].isnull().any())\n",
    "\n",
    "def replace(j):\n",
    "    if weather_df[\"humidity\"][j]!=(-100):\n",
    "        return weather_df[\"humidity\"][j]\n",
    "    else:\n",
    "        return replace(j+1)\n",
    "\n",
    "for i in range(100990):\n",
    "    if weather_df[\"humidity\"][i]==-100:\n",
    "        weather_df[\"humidity\"][i]=(replace(i+1)+weather_df[\"humidity\"][i-1])/2\n",
    "    elif weather_df[\"humidity\"][i]>100:\n",
    "        weather_df[\"humidity\"][i]=(weather_df[\"humidity\"][i-1]+weather_df[\"humidity\"][i+1])/2\n",
    "        "
   ]
  },
  {
   "cell_type": "code",
   "execution_count": 16,
   "metadata": {},
   "outputs": [
    {
     "data": {
      "text/plain": [
       "59.0"
      ]
     },
     "execution_count": 16,
     "metadata": {},
     "output_type": "execute_result"
    }
   ],
   "source": [
    "weather_df[\"humidity\"][124]"
   ]
  },
  {
   "cell_type": "code",
   "execution_count": 17,
   "metadata": {},
   "outputs": [],
   "source": [
    "weather_df.drop([\"Time\"],axis=1,inplace=True)"
   ]
  },
  {
   "cell_type": "code",
   "execution_count": 18,
   "metadata": {},
   "outputs": [],
   "source": [
    "# Dew Point\n",
    "\n",
    "#Function for calculating Dew Point\n",
    "import math\n",
    "def ln(n):\n",
    "    return math.log(n,math.e)\n",
    "def Tdew(T,H):\n",
    "    nl =ln(H/100)\n",
    "    s=237.3+T\n",
    "    m=17.27*T\n",
    "    TD = (237.3*(nl+(m/s)))/(17.27+(-1)*(nl+(m/s)))    \n",
    "    return TD\n",
    "\n",
    "weather_df[\"dewpt\"].fillna(-500, inplace = True)\n",
    "\n",
    "\n",
    "for i in range(100990):\n",
    "    if weather_df[\"dewpt\"][i]==-500:\n",
    "        weather_df[\"dewpt\"][i]=Tdew(weather_df[\"temp\"][i],weather_df[\"humidity\"][i])\n",
    "    elif weather_df[\"dewpt\"][i]>40 or weather_df[\"dewpt\"][i]<(-12):\n",
    "        weather_df[\"dewpt\"][i]=Tdew(weather_df[\"temp\"][i],weather_df[\"humidity\"][i])"
   ]
  },
  {
   "cell_type": "code",
   "execution_count": 19,
   "metadata": {},
   "outputs": [
    {
     "data": {
      "text/plain": [
       "7.531332110544606"
      ]
     },
     "execution_count": 19,
     "metadata": {},
     "output_type": "execute_result"
    }
   ],
   "source": [
    "weather_df[\"dewpt\"][124]"
   ]
  },
  {
   "cell_type": "code",
   "execution_count": 21,
   "metadata": {},
   "outputs": [
    {
     "name": "stdout",
     "output_type": "stream",
     "text": [
      "0\n",
      "0\n",
      "0\n",
      "0\n",
      "0\n",
      "0\n"
     ]
    }
   ],
   "source": [
    "weather_df[\"Date\"].fillna(-500, inplace = True)\n",
    "sumdp=0\n",
    "for i in range(100990):\n",
    "    if weather_df[\"Date\"][i]==-500:\n",
    "        print(i)\n",
    "        sumdp+=1\n",
    "print(sumdp)\n",
    "\n",
    "weather_df[\"Hour\"].fillna(-500, inplace = True)\n",
    "sumdp=0\n",
    "for i in range(100990):\n",
    "    if weather_df[\"Hour\"][i]==-500:\n",
    "        print(i)\n",
    "        sumdp+=1\n",
    "print(sumdp)\n",
    "\n",
    "weather_df[\"Month\"].fillna(-500, inplace = True)\n",
    "sumdp=0\n",
    "for i in range(100990):\n",
    "    if weather_df[\"Month\"][i]==-500:\n",
    "        print(i)\n",
    "        sumdp+=1\n",
    "print(sumdp)\n",
    "\n",
    "weather_df[\"rain\"].fillna(-500, inplace = True)\n",
    "sumdp=0\n",
    "for i in range(100990):\n",
    "    if weather_df[\"rain\"][i]==-500:\n",
    "        print(i)\n",
    "        sumdp+=1\n",
    "print(sumdp)\n",
    "\n",
    "weather_df[\"rain previous\"].fillna(-500, inplace = True)\n",
    "sumdp=0\n",
    "for i in range(100990):\n",
    "    if weather_df[\"rain previous\"][i]==-500:\n",
    "        print(i)\n",
    "        sumdp+=1\n",
    "print(sumdp)\n",
    "\n",
    "weather_df[\"thunder\"].fillna(-500, inplace = True)\n",
    "sumdp=0\n",
    "for i in range(100990):\n",
    "    if weather_df[\"thunder\"][i]==-500:\n",
    "        print(i)\n",
    "        sumdp+=1\n",
    "print(sumdp)"
   ]
  },
  {
   "cell_type": "markdown",
   "metadata": {},
   "source": [
    "### Spliting the data for testing and training"
   ]
  },
  {
   "cell_type": "code",
   "execution_count": 23,
   "metadata": {},
   "outputs": [],
   "source": [
    "#Training and Testing the data\n",
    "x=weather_df.drop([\"rain\"],axis=1)\n",
    "y=weather_df[\"rain\"]"
   ]
  },
  {
   "cell_type": "code",
   "execution_count": 24,
   "metadata": {},
   "outputs": [],
   "source": [
    "x_train,x_test,y_train,y_test=train_test_split(x,y,test_size=0.2,random_state=0)"
   ]
  },
  {
   "cell_type": "markdown",
   "metadata": {},
   "source": [
    "## Training Models to Predict Precipitation"
   ]
  },
  {
   "cell_type": "markdown",
   "metadata": {},
   "source": [
    "### Logistic Regression"
   ]
  },
  {
   "cell_type": "code",
   "execution_count": 25,
   "metadata": {},
   "outputs": [
    {
     "data": {
      "text/plain": [
       "LogisticRegression()"
      ]
     },
     "execution_count": 25,
     "metadata": {},
     "output_type": "execute_result"
    }
   ],
   "source": [
    "import warnings\n",
    "warnings.filterwarnings('ignore')\n",
    "\n",
    "from sklearn.linear_model import LogisticRegression\n",
    "logmodel=LogisticRegression()\n",
    "logmodel.fit(x_train,y_train)"
   ]
  },
  {
   "cell_type": "code",
   "execution_count": 26,
   "metadata": {},
   "outputs": [],
   "source": [
    "prediction=logmodel.predict(x_test)"
   ]
  },
  {
   "cell_type": "code",
   "execution_count": 27,
   "metadata": {},
   "outputs": [],
   "source": [
    "from sklearn.metrics import classification_report"
   ]
  },
  {
   "cell_type": "code",
   "execution_count": 28,
   "metadata": {},
   "outputs": [
    {
     "data": {
      "text/plain": [
       "'              precision    recall  f1-score   support\\n\\n           0       0.98      0.99      0.99     19685\\n           1       0.49      0.23      0.31       513\\n\\n    accuracy                           0.97     20198\\n   macro avg       0.73      0.61      0.65     20198\\nweighted avg       0.97      0.97      0.97     20198\\n'"
      ]
     },
     "execution_count": 28,
     "metadata": {},
     "output_type": "execute_result"
    }
   ],
   "source": [
    "classification_report(y_test,prediction)"
   ]
  },
  {
   "cell_type": "code",
   "execution_count": 29,
   "metadata": {},
   "outputs": [
    {
     "data": {
      "text/plain": [
       "array([[19563,   122],\n",
       "       [  396,   117]])"
      ]
     },
     "execution_count": 29,
     "metadata": {},
     "output_type": "execute_result"
    }
   ],
   "source": [
    "from sklearn.metrics import confusion_matrix\n",
    "confusion_matrix(y_test,prediction)"
   ]
  },
  {
   "cell_type": "code",
   "execution_count": 30,
   "metadata": {},
   "outputs": [
    {
     "data": {
      "text/plain": [
       "(20198, 7)"
      ]
     },
     "execution_count": 30,
     "metadata": {},
     "output_type": "execute_result"
    }
   ],
   "source": [
    "x_test.shape"
   ]
  },
  {
   "cell_type": "code",
   "execution_count": 31,
   "metadata": {},
   "outputs": [
    {
     "data": {
      "text/plain": [
       "0.9743538964253886"
      ]
     },
     "execution_count": 31,
     "metadata": {},
     "output_type": "execute_result"
    }
   ],
   "source": [
    "from sklearn.metrics import accuracy_score\n",
    "accuracy_score(y_test,prediction)"
   ]
  },
  {
   "cell_type": "code",
   "execution_count": 32,
   "metadata": {},
   "outputs": [
    {
     "name": "stdout",
     "output_type": "stream",
     "text": [
      "[0]\n"
     ]
    }
   ],
   "source": [
    "l=np.array([28,6,19,25,50,0,0]).reshape(1,-1)\n",
    "print(logmodel.predict(l))"
   ]
  },
  {
   "cell_type": "code",
   "execution_count": 33,
   "metadata": {},
   "outputs": [
    {
     "data": {
      "text/plain": [
       "LogisticRegression()"
      ]
     },
     "execution_count": 33,
     "metadata": {},
     "output_type": "execute_result"
    }
   ],
   "source": [
    "lr=LogisticRegression()\n",
    "lr.fit(x_train,y_train)"
   ]
  },
  {
   "cell_type": "code",
   "execution_count": 34,
   "metadata": {},
   "outputs": [
    {
     "data": {
      "text/plain": [
       "array([0])"
      ]
     },
     "execution_count": 34,
     "metadata": {},
     "output_type": "execute_result"
    }
   ],
   "source": [
    "lr.predict(l)"
   ]
  },
  {
   "cell_type": "code",
   "execution_count": 35,
   "metadata": {},
   "outputs": [
    {
     "data": {
      "text/plain": [
       "['../Trained Models/nPLogisticRegression.pkl']"
      ]
     },
     "execution_count": 35,
     "metadata": {},
     "output_type": "execute_result"
    }
   ],
   "source": [
    "#Saving the Logistic Regression Model\n",
    "joblib.dump(logmodel, '../Trained Models/PLogisticRegression.pkl') \n",
    "  \n",
    "# Load the model from the file only to be uncommented when to be used \n",
    "#DT = joblib.load('HUMDT.pkl')  \n",
    "  \n",
    "# Use the loaded model to make predictions \n",
    "#DT.predict(X_test)"
   ]
  },
  {
   "cell_type": "markdown",
   "metadata": {},
   "source": [
    "### Random Forest"
   ]
  },
  {
   "cell_type": "code",
   "execution_count": 36,
   "metadata": {},
   "outputs": [
    {
     "data": {
      "text/plain": [
       "RandomForestRegressor(max_depth=60, random_state=0)"
      ]
     },
     "execution_count": 36,
     "metadata": {},
     "output_type": "execute_result"
    }
   ],
   "source": [
    "#Random Forest Model\n",
    "from sklearn.ensemble import RandomForestRegressor\n",
    "regr=RandomForestRegressor(max_depth=60,random_state=0,n_estimators=100)\n",
    "regr.fit(x_train,y_train)"
   ]
  },
  {
   "cell_type": "code",
   "execution_count": 37,
   "metadata": {},
   "outputs": [
    {
     "data": {
      "text/plain": [
       "0.022088748879432178"
      ]
     },
     "execution_count": 37,
     "metadata": {},
     "output_type": "execute_result"
    }
   ],
   "source": [
    "prediction4=regr.predict(x_test)\n",
    "np.mean((prediction4-y_test)**2)"
   ]
  },
  {
   "cell_type": "code",
   "execution_count": 38,
   "metadata": {},
   "outputs": [
    {
     "data": {
      "text/plain": [
       "array([0.])"
      ]
     },
     "execution_count": 38,
     "metadata": {},
     "output_type": "execute_result"
    }
   ],
   "source": [
    "l=np.array([28,6,19,25,50,0,0]).reshape(1,-1)\n",
    "regr.predict(l)"
   ]
  },
  {
   "cell_type": "code",
   "execution_count": 39,
   "metadata": {},
   "outputs": [
    {
     "data": {
      "text/plain": [
       "['../Trained Models/PRandomForest.pkl']"
      ]
     },
     "execution_count": 39,
     "metadata": {},
     "output_type": "execute_result"
    }
   ],
   "source": [
    "#Saving the Random Forest Model\n",
    "joblib.dump(regr, '../Trained Models/PRandomForest.pkl') \n",
    "  \n",
    "# Load the model from the file only to be uncommented when to be used \n",
    "#DT = joblib.load('PRandomForest.pkl')  \n",
    "  \n",
    "# Use the loaded model to make predictions \n",
    "#DT.predict(X_test)"
   ]
  }
 ],
 "metadata": {
  "kernelspec": {
   "display_name": "Python 3 (ipykernel)",
   "language": "python",
   "name": "python3"
  },
  "language_info": {
   "codemirror_mode": {
    "name": "ipython",
    "version": 3
   },
   "file_extension": ".py",
   "mimetype": "text/x-python",
   "name": "python",
   "nbconvert_exporter": "python",
   "pygments_lexer": "ipython3",
   "version": "3.9.7"
  }
 },
 "nbformat": 4,
 "nbformat_minor": 2
}
