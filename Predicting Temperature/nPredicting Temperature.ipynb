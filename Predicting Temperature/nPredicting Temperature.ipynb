{
 "cells": [
  {
   "cell_type": "markdown",
   "metadata": {},
   "source": [
    "## Importing the data and the required libraries"
   ]
  },
  {
   "cell_type": "code",
   "execution_count": 1,
   "metadata": {},
   "outputs": [],
   "source": [
    "#Importing all the libraries and modules\n",
    "import warnings\n",
    "warnings.filterwarnings('ignore')\n",
    "import numpy as np\n",
    "import pandas as pd\n",
    "from matplotlib import pyplot as plt\n",
    "%matplotlib inline\n",
    "\n",
    "import sklearn\n",
    "from sklearn.model_selection import train_test_split\n",
    "from sklearn.metrics import accuracy_score\n",
    "\n",
    "from sklearn.linear_model import LinearRegression\n",
    "from sklearn import preprocessing"
   ]
  },
  {
   "cell_type": "code",
   "execution_count": 9,
   "metadata": {},
   "outputs": [],
   "source": [
    "weather_df=pd.read_csv('../Final Datasets/Temperature.csv')"
   ]
  },
  {
   "cell_type": "code",
   "execution_count": 10,
   "metadata": {},
   "outputs": [
    {
     "name": "stdout",
     "output_type": "stream",
     "text": [
      "(100990, 9)\n",
      "                Date          Month           Hour     heatindex  \\\n",
      "count  100990.000000  100990.000000  100990.000000  29155.000000   \n",
      "mean       15.690049       6.579344      10.928844     35.651710   \n",
      "std         8.769718       3.475841       6.854328      5.015384   \n",
      "min         1.000000       1.000000       0.000000     26.800000   \n",
      "25%         8.000000       4.000000       5.000000     31.700000   \n",
      "50%        16.000000       7.000000      11.000000     35.100000   \n",
      "75%        23.000000      10.000000      17.000000     39.200000   \n",
      "max        31.000000      12.000000      23.000000     73.600000   \n",
      "\n",
      "            humidity           rain           temp  temp previous  \n",
      "count  100233.000000  100990.000000  100317.000000  100317.000000  \n",
      "mean       57.909481       0.026260      25.451269      25.450911  \n",
      "std        23.807771       0.159908       8.482859       8.482633  \n",
      "min         4.000000       0.000000       1.000000       1.000000  \n",
      "25%        39.000000       0.000000      19.000000      19.000000  \n",
      "50%        59.000000       0.000000      27.000000      27.000000  \n",
      "75%        78.000000       0.000000      32.000000      32.000000  \n",
      "max       243.000000       1.000000      90.000000      90.000000  \n",
      "   Date  Month  Hour   Time  heatindex  humidity  rain  temp  temp previous\n",
      "0     1     11    11  11:00        NaN      27.0     0  30.0           25.0\n",
      "1     1     11    12  12:00        NaN      32.0     0  28.0           26.0\n",
      "2     1     11    13  13:00        NaN      44.0     0  24.0           26.0\n",
      "3     1     11    14  14:00        NaN      41.0     0  24.0           28.0\n",
      "4     1     11    16  16:00        NaN      47.0     0  23.0           29.0\n",
      "Index(['Date', 'Month', 'Hour', 'Time', 'heatindex', 'humidity', 'rain',\n",
      "       'temp', 'temp previous'],\n",
      "      dtype='object')\n"
     ]
    }
   ],
   "source": [
    "print(weather_df.shape)\n",
    "print(weather_df.describe())\n",
    "print(weather_df.head())\n",
    "print(weather_df.columns)\n",
    "weather_df.drop([\"Time\"],axis=1,inplace=True)"
   ]
  },
  {
   "cell_type": "markdown",
   "metadata": {},
   "source": [
    "# Preprocessing the data"
   ]
  },
  {
   "cell_type": "code",
   "execution_count": 11,
   "metadata": {},
   "outputs": [
    {
     "name": "stdout",
     "output_type": "stream",
     "text": [
      "Date             False\n",
      "Month            False\n",
      "Hour             False\n",
      "heatindex         True\n",
      "humidity          True\n",
      "rain             False\n",
      "temp              True\n",
      "temp previous     True\n",
      "dtype: bool\n"
     ]
    }
   ],
   "source": [
    "print(weather_df.isnull().any())"
   ]
  },
  {
   "cell_type": "markdown",
   "metadata": {},
   "source": [
    "### Temperature"
   ]
  },
  {
   "cell_type": "code",
   "execution_count": 12,
   "metadata": {},
   "outputs": [],
   "source": [
    "# Temperature Previous\n",
    "\n",
    "def replace(j):\n",
    "    if weather_df[\"temp previous\"][j]!=(-10):\n",
    "        return weather_df[\"temp previous\"][j]\n",
    "    else:\n",
    "        return replace(j+1)\n",
    "        \n",
    "weather_df[\"temp previous\"].fillna(-10, inplace = True)\n",
    "\n",
    "for i in range(100990):\n",
    "    if weather_df[\"temp previous\"][i]==-10:\n",
    "        weather_df[\"temp previous\"][i]=(replace(i+1)+weather_df[\"temp previous\"][i-1])/2\n",
    "    elif weather_df[\"temp previous\"][i]>=50:\n",
    "        weather_df[\"temp previous\"][i]=(weather_df[\"temp previous\"][i-1]+weather_df[\"temp previous\"][i+1])/2\n",
    "        "
   ]
  },
  {
   "cell_type": "code",
   "execution_count": 13,
   "metadata": {},
   "outputs": [
    {
     "name": "stdout",
     "output_type": "stream",
     "text": [
      "False\n"
     ]
    },
    {
     "data": {
      "text/plain": [
       "17.0"
      ]
     },
     "execution_count": 13,
     "metadata": {},
     "output_type": "execute_result"
    }
   ],
   "source": [
    "print(weather_df[\"temp previous\"].isnull().any())\n",
    "weather_df[\"temp previous\"][124]"
   ]
  },
  {
   "cell_type": "code",
   "execution_count": 14,
   "metadata": {},
   "outputs": [
    {
     "name": "stdout",
     "output_type": "stream",
     "text": [
      "True\n"
     ]
    }
   ],
   "source": [
    "# Temperature\n",
    "\n",
    "print(weather_df[\"temp\"].isnull().any())\n",
    "\n",
    "weather_df[\"temp\"].fillna(-300, inplace = True)\n",
    "\n",
    "for i in range(100990):\n",
    "    if weather_df[\"temp\"][i]==-300:\n",
    "        weather_df[\"temp\"][i]=weather_df[\"temp previous\"][i+1]\n",
    "    elif weather_df[\"temp\"][i]>100:\n",
    "        weather_df[\"temp\"][i]=weather_df[\"temp previous\"][i+1]\n"
   ]
  },
  {
   "cell_type": "code",
   "execution_count": 15,
   "metadata": {},
   "outputs": [
    {
     "name": "stdout",
     "output_type": "stream",
     "text": [
      "False\n"
     ]
    },
    {
     "data": {
      "text/plain": [
       "15.0"
      ]
     },
     "execution_count": 15,
     "metadata": {},
     "output_type": "execute_result"
    }
   ],
   "source": [
    "print(weather_df[\"temp\"].isnull().any())\n",
    "weather_df[\"temp\"][123]"
   ]
  },
  {
   "cell_type": "markdown",
   "metadata": {},
   "source": [
    "### Humidity"
   ]
  },
  {
   "cell_type": "code",
   "execution_count": 16,
   "metadata": {},
   "outputs": [
    {
     "name": "stdout",
     "output_type": "stream",
     "text": [
      "False\n"
     ]
    }
   ],
   "source": [
    "weather_df[\"humidity\"].fillna(-100, inplace = True)\n",
    "\n",
    "print(weather_df[\"humidity\"].isnull().any())\n",
    "\n",
    "def replace(j):\n",
    "    if weather_df[\"humidity\"][j]!=(-100):\n",
    "        return weather_df[\"humidity\"][j]\n",
    "    else:\n",
    "        return replace(j+1)\n",
    "\n",
    "for i in range(100990):\n",
    "    if weather_df[\"humidity\"][i]==-100:\n",
    "        weather_df[\"humidity\"][i]=(replace(i+1)+weather_df[\"humidity\"][i-1])/2\n",
    "    elif weather_df[\"humidity\"][i]>100:\n",
    "        weather_df[\"humidity\"][i]=(weather_df[\"humidity\"][i-1]+weather_df[\"humidity\"][i+1])/2\n",
    "        "
   ]
  },
  {
   "cell_type": "code",
   "execution_count": 17,
   "metadata": {},
   "outputs": [
    {
     "data": {
      "text/plain": [
       "59.0"
      ]
     },
     "execution_count": 17,
     "metadata": {},
     "output_type": "execute_result"
    }
   ],
   "source": [
    "weather_df[\"humidity\"][124]"
   ]
  },
  {
   "cell_type": "markdown",
   "metadata": {},
   "source": [
    "### Heat Index"
   ]
  },
  {
   "cell_type": "code",
   "execution_count": 18,
   "metadata": {},
   "outputs": [],
   "source": [
    "#This is the function for calculating heat index\n",
    "def HI(t,H):\n",
    "    c1 = -42.379\n",
    "    c2= 2.04901523\n",
    "    c3 = 10.14333127\n",
    "    c4 = -0.22475541\n",
    "    c5 = -6.83783 *(0.001)\n",
    "    c6 = -5.481717 * (0.01)\n",
    "    c7 = 1.22874 * (0.001)\n",
    "    c8 = 8.5282 * (0.0001)\n",
    "    c9 = -1.99 * (0.000001)\n",
    "    T=(1.8*t)+32\n",
    "    HI=c1+(c2*T)+(c3*H)+(c4*T*H)+(c5*T*T)+(c6*H*H)+(c7*T*H*T)+(c8*T*H*H)+(c9*T*H*T*H)\n",
    "    FHI=((HI-32)*5)/9\n",
    "    return FHI\n",
    "\n",
    "weather_df[\"heatindex\"].fillna(-200, inplace = True)\n",
    "\n",
    "\n",
    "for i in range(100990):\n",
    "    if weather_df[\"heatindex\"][i]==-200:\n",
    "        weather_df[\"heatindex\"][i]=HI(weather_df[\"temp previous\"][i],weather_df[\"humidity\"][i])\n",
    "    elif weather_df[\"heatindex\"][i]>60:\n",
    "        weather_df[\"heatindex\"][i]=HI(weather_df[\"temp previous\"][i],weather_df[\"humidity\"][i])\n",
    "        \n",
    "    "
   ]
  },
  {
   "cell_type": "code",
   "execution_count": 19,
   "metadata": {},
   "outputs": [
    {
     "name": "stdout",
     "output_type": "stream",
     "text": [
      "26.336388312444445\n"
     ]
    }
   ],
   "source": [
    "print(weather_df[\"heatindex\"][124])"
   ]
  },
  {
   "cell_type": "code",
   "execution_count": 20,
   "metadata": {},
   "outputs": [],
   "source": [
    "weather_df_num=weather_df[list(weather_df.dtypes[weather_df.dtypes!='object'].index)]\n",
    "weather_y=weather_df_num.pop('temp')\n",
    "weather_x=weather_df_num"
   ]
  },
  {
   "cell_type": "code",
   "execution_count": 21,
   "metadata": {},
   "outputs": [
    {
     "data": {
      "text/html": [
       "<div>\n",
       "<style scoped>\n",
       "    .dataframe tbody tr th:only-of-type {\n",
       "        vertical-align: middle;\n",
       "    }\n",
       "\n",
       "    .dataframe tbody tr th {\n",
       "        vertical-align: top;\n",
       "    }\n",
       "\n",
       "    .dataframe thead th {\n",
       "        text-align: right;\n",
       "    }\n",
       "</style>\n",
       "<table border=\"1\" class=\"dataframe\">\n",
       "  <thead>\n",
       "    <tr style=\"text-align: right;\">\n",
       "      <th></th>\n",
       "      <th>Date</th>\n",
       "      <th>Month</th>\n",
       "      <th>Hour</th>\n",
       "      <th>heatindex</th>\n",
       "      <th>humidity</th>\n",
       "      <th>rain</th>\n",
       "      <th>temp previous</th>\n",
       "    </tr>\n",
       "  </thead>\n",
       "  <tbody>\n",
       "    <tr>\n",
       "      <th>99686</th>\n",
       "      <td>6</td>\n",
       "      <td>1</td>\n",
       "      <td>15</td>\n",
       "      <td>23.022729</td>\n",
       "      <td>96.0</td>\n",
       "      <td>0</td>\n",
       "      <td>24.0</td>\n",
       "    </tr>\n",
       "    <tr>\n",
       "      <th>18305</th>\n",
       "      <td>29</td>\n",
       "      <td>1</td>\n",
       "      <td>10</td>\n",
       "      <td>26.052968</td>\n",
       "      <td>35.0</td>\n",
       "      <td>0</td>\n",
       "      <td>17.0</td>\n",
       "    </tr>\n",
       "    <tr>\n",
       "      <th>91877</th>\n",
       "      <td>20</td>\n",
       "      <td>8</td>\n",
       "      <td>6</td>\n",
       "      <td>36.195542</td>\n",
       "      <td>57.0</td>\n",
       "      <td>0</td>\n",
       "      <td>32.0</td>\n",
       "    </tr>\n",
       "    <tr>\n",
       "      <th>55714</th>\n",
       "      <td>29</td>\n",
       "      <td>2</td>\n",
       "      <td>14</td>\n",
       "      <td>29.310097</td>\n",
       "      <td>47.0</td>\n",
       "      <td>0</td>\n",
       "      <td>29.0</td>\n",
       "    </tr>\n",
       "    <tr>\n",
       "      <th>40664</th>\n",
       "      <td>2</td>\n",
       "      <td>2</td>\n",
       "      <td>7</td>\n",
       "      <td>24.059801</td>\n",
       "      <td>82.0</td>\n",
       "      <td>0</td>\n",
       "      <td>14.0</td>\n",
       "    </tr>\n",
       "  </tbody>\n",
       "</table>\n",
       "</div>"
      ],
      "text/plain": [
       "       Date  Month  Hour  heatindex  humidity  rain  temp previous\n",
       "99686     6      1    15  23.022729      96.0     0           24.0\n",
       "18305    29      1    10  26.052968      35.0     0           17.0\n",
       "91877    20      8     6  36.195542      57.0     0           32.0\n",
       "55714    29      2    14  29.310097      47.0     0           29.0\n",
       "40664     2      2     7  24.059801      82.0     0           14.0"
      ]
     },
     "execution_count": 21,
     "metadata": {},
     "output_type": "execute_result"
    }
   ],
   "source": [
    "train_x,test_x,train_y,test_y=train_test_split(weather_x,weather_y,test_size=0.2,random_state=4)\n",
    "train_x.head()"
   ]
  },
  {
   "cell_type": "markdown",
   "metadata": {},
   "source": [
    "## Traning ML Models"
   ]
  },
  {
   "cell_type": "markdown",
   "metadata": {},
   "source": [
    "### Linear Regression"
   ]
  },
  {
   "cell_type": "code",
   "execution_count": 22,
   "metadata": {},
   "outputs": [
    {
     "data": {
      "text/plain": [
       "LinearRegression()"
      ]
     },
     "execution_count": 22,
     "metadata": {},
     "output_type": "execute_result"
    }
   ],
   "source": [
    "#Linear Regression\n",
    "tlrmodel = LinearRegression()\n",
    "tlrmodel.fit(train_x,train_y)"
   ]
  },
  {
   "cell_type": "code",
   "execution_count": 23,
   "metadata": {},
   "outputs": [
    {
     "name": "stdout",
     "output_type": "stream",
     "text": [
      "       Date  Month  Hour  heatindex  humidity  rain  temp previous\n",
      "16733    18     11     8  23.560415      21.0     0           21.0\n",
      "82934    21      4    15  26.307993      27.0     0           27.0\n",
      "33831    11      4    13  34.400386      13.0     0           37.0\n",
      "22660    14     12    19  21.838011      77.0     0           20.0\n",
      "47063    16      8    14  33.600000      89.0     0           33.0\n",
      "...     ...    ...   ...        ...       ...   ...            ...\n",
      "26343    24      5     8  44.400000      21.0     0           36.0\n",
      "10264    12      9    22  25.540468      94.0     0           25.0\n",
      "17753     4      1    15  19.325880      88.0     0           16.0\n",
      "98956     2     12    12  25.961348      73.0     0           25.0\n",
      "46164    26      7    23  34.500000      79.0     0           28.0\n",
      "\n",
      "[20198 rows x 7 columns]\n"
     ]
    },
    {
     "data": {
      "text/plain": [
       "17.912631961345774"
      ]
     },
     "execution_count": 23,
     "metadata": {},
     "output_type": "execute_result"
    }
   ],
   "source": [
    "print(test_x)\n",
    "prediction=tlrmodel.predict(test_x)\n",
    "#Calculating error\n",
    "np.mean((prediction-test_y)**2)"
   ]
  },
  {
   "cell_type": "code",
   "execution_count": 24,
   "metadata": {},
   "outputs": [
    {
     "name": "stdout",
     "output_type": "stream",
     "text": [
      "(1, 7)\n",
      "[28.18760389 29.88467022 38.69870806 ... 13.11273561 22.92977049\n",
      " 23.70496936] [31.86612191]\n"
     ]
    }
   ],
   "source": [
    "l=[6,7,18,43,65,1,33]\n",
    "x=np.array(l).reshape(1,-1)\n",
    "print(x.shape)\n",
    "prediction=tlrmodel.predict(test_x)\n",
    "print(prediction,tlrmodel.predict(x))"
   ]
  },
  {
   "cell_type": "code",
   "execution_count": 25,
   "metadata": {},
   "outputs": [
    {
     "data": {
      "text/html": [
       "<div>\n",
       "<style scoped>\n",
       "    .dataframe tbody tr th:only-of-type {\n",
       "        vertical-align: middle;\n",
       "    }\n",
       "\n",
       "    .dataframe tbody tr th {\n",
       "        vertical-align: top;\n",
       "    }\n",
       "\n",
       "    .dataframe thead th {\n",
       "        text-align: right;\n",
       "    }\n",
       "</style>\n",
       "<table border=\"1\" class=\"dataframe\">\n",
       "  <thead>\n",
       "    <tr style=\"text-align: right;\">\n",
       "      <th></th>\n",
       "      <th>actual</th>\n",
       "      <th>prediction</th>\n",
       "      <th>diff</th>\n",
       "    </tr>\n",
       "  </thead>\n",
       "  <tbody>\n",
       "    <tr>\n",
       "      <th>16733</th>\n",
       "      <td>28.0</td>\n",
       "      <td>28.187604</td>\n",
       "      <td>-0.187604</td>\n",
       "    </tr>\n",
       "    <tr>\n",
       "      <th>82934</th>\n",
       "      <td>30.0</td>\n",
       "      <td>29.884670</td>\n",
       "      <td>0.115330</td>\n",
       "    </tr>\n",
       "    <tr>\n",
       "      <th>33831</th>\n",
       "      <td>35.0</td>\n",
       "      <td>38.698708</td>\n",
       "      <td>-3.698708</td>\n",
       "    </tr>\n",
       "    <tr>\n",
       "      <th>22660</th>\n",
       "      <td>14.0</td>\n",
       "      <td>18.767048</td>\n",
       "      <td>-4.767048</td>\n",
       "    </tr>\n",
       "    <tr>\n",
       "      <th>47063</th>\n",
       "      <td>28.0</td>\n",
       "      <td>25.488163</td>\n",
       "      <td>2.511837</td>\n",
       "    </tr>\n",
       "    <tr>\n",
       "      <th>...</th>\n",
       "      <td>...</td>\n",
       "      <td>...</td>\n",
       "      <td>...</td>\n",
       "    </tr>\n",
       "    <tr>\n",
       "      <th>26343</th>\n",
       "      <td>43.0</td>\n",
       "      <td>38.364827</td>\n",
       "      <td>4.635173</td>\n",
       "    </tr>\n",
       "    <tr>\n",
       "      <th>10264</th>\n",
       "      <td>25.0</td>\n",
       "      <td>19.014127</td>\n",
       "      <td>5.985873</td>\n",
       "    </tr>\n",
       "    <tr>\n",
       "      <th>17753</th>\n",
       "      <td>11.0</td>\n",
       "      <td>13.112736</td>\n",
       "      <td>-2.112736</td>\n",
       "    </tr>\n",
       "    <tr>\n",
       "      <th>98956</th>\n",
       "      <td>22.0</td>\n",
       "      <td>22.929770</td>\n",
       "      <td>-0.929770</td>\n",
       "    </tr>\n",
       "    <tr>\n",
       "      <th>46164</th>\n",
       "      <td>29.0</td>\n",
       "      <td>23.704969</td>\n",
       "      <td>5.295031</td>\n",
       "    </tr>\n",
       "  </tbody>\n",
       "</table>\n",
       "<p>20198 rows × 3 columns</p>\n",
       "</div>"
      ],
      "text/plain": [
       "       actual  prediction      diff\n",
       "16733    28.0   28.187604 -0.187604\n",
       "82934    30.0   29.884670  0.115330\n",
       "33831    35.0   38.698708 -3.698708\n",
       "22660    14.0   18.767048 -4.767048\n",
       "47063    28.0   25.488163  2.511837\n",
       "...       ...         ...       ...\n",
       "26343    43.0   38.364827  4.635173\n",
       "10264    25.0   19.014127  5.985873\n",
       "17753    11.0   13.112736 -2.112736\n",
       "98956    22.0   22.929770 -0.929770\n",
       "46164    29.0   23.704969  5.295031\n",
       "\n",
       "[20198 rows x 3 columns]"
      ]
     },
     "execution_count": 25,
     "metadata": {},
     "output_type": "execute_result"
    }
   ],
   "source": [
    "pd.DataFrame({'actual':test_y,'prediction':prediction,'diff':(test_y-prediction)})"
   ]
  },
  {
   "cell_type": "code",
   "execution_count": 23,
   "metadata": {},
   "outputs": [
    {
     "name": "stderr",
     "output_type": "stream",
     "text": [
      "C:\\Users\\Mayank\\Anaconda3\\lib\\site-packages\\sklearn\\externals\\joblib\\__init__.py:15: DeprecationWarning: sklearn.externals.joblib is deprecated in 0.21 and will be removed in 0.23. Please import this functionality directly from joblib, which can be installed with: pip install joblib. If this warning is raised when loading pickled models, you may need to re-serialize those models with scikit-learn 0.21+.\n",
      "  warnings.warn(msg, category=DeprecationWarning)\n"
     ]
    },
    {
     "data": {
      "text/plain": [
       "['nTLinearRegression.pkl']"
      ]
     },
     "execution_count": 23,
     "metadata": {},
     "output_type": "execute_result"
    }
   ],
   "source": [
    "import joblib \n",
    "  \n",
    "# Save the model as a pickle in a file \n",
    "joblib.dump(tlrmodel, '../Trained Models/TLinearRegression.pkl') \n",
    "  \n",
    "# Load the model from the file only to be uncommented when to be used \n",
    "#LR = joblib.load('../Trained Models/TLinearRegression.pkl')  \n",
    "  \n",
    "# Use the loaded model to make predictions \n",
    "#LR.predict(X_test)"
   ]
  },
  {
   "cell_type": "code",
   "execution_count": 26,
   "metadata": {},
   "outputs": [
    {
     "data": {
      "text/html": [
       "<div>\n",
       "<style scoped>\n",
       "    .dataframe tbody tr th:only-of-type {\n",
       "        vertical-align: middle;\n",
       "    }\n",
       "\n",
       "    .dataframe tbody tr th {\n",
       "        vertical-align: top;\n",
       "    }\n",
       "\n",
       "    .dataframe thead th {\n",
       "        text-align: right;\n",
       "    }\n",
       "</style>\n",
       "<table border=\"1\" class=\"dataframe\">\n",
       "  <thead>\n",
       "    <tr style=\"text-align: right;\">\n",
       "      <th></th>\n",
       "      <th>Date</th>\n",
       "      <th>Month</th>\n",
       "      <th>Hour</th>\n",
       "      <th>heatindex</th>\n",
       "      <th>humidity</th>\n",
       "      <th>rain</th>\n",
       "      <th>temp previous</th>\n",
       "    </tr>\n",
       "  </thead>\n",
       "  <tbody>\n",
       "    <tr>\n",
       "      <th>16733</th>\n",
       "      <td>18</td>\n",
       "      <td>11</td>\n",
       "      <td>8</td>\n",
       "      <td>23.560415</td>\n",
       "      <td>21.0</td>\n",
       "      <td>0</td>\n",
       "      <td>21.0</td>\n",
       "    </tr>\n",
       "    <tr>\n",
       "      <th>82934</th>\n",
       "      <td>21</td>\n",
       "      <td>4</td>\n",
       "      <td>15</td>\n",
       "      <td>26.307993</td>\n",
       "      <td>27.0</td>\n",
       "      <td>0</td>\n",
       "      <td>27.0</td>\n",
       "    </tr>\n",
       "    <tr>\n",
       "      <th>33831</th>\n",
       "      <td>11</td>\n",
       "      <td>4</td>\n",
       "      <td>13</td>\n",
       "      <td>34.400386</td>\n",
       "      <td>13.0</td>\n",
       "      <td>0</td>\n",
       "      <td>37.0</td>\n",
       "    </tr>\n",
       "    <tr>\n",
       "      <th>22660</th>\n",
       "      <td>14</td>\n",
       "      <td>12</td>\n",
       "      <td>19</td>\n",
       "      <td>21.838011</td>\n",
       "      <td>77.0</td>\n",
       "      <td>0</td>\n",
       "      <td>20.0</td>\n",
       "    </tr>\n",
       "    <tr>\n",
       "      <th>47063</th>\n",
       "      <td>16</td>\n",
       "      <td>8</td>\n",
       "      <td>14</td>\n",
       "      <td>33.600000</td>\n",
       "      <td>89.0</td>\n",
       "      <td>0</td>\n",
       "      <td>33.0</td>\n",
       "    </tr>\n",
       "    <tr>\n",
       "      <th>...</th>\n",
       "      <td>...</td>\n",
       "      <td>...</td>\n",
       "      <td>...</td>\n",
       "      <td>...</td>\n",
       "      <td>...</td>\n",
       "      <td>...</td>\n",
       "      <td>...</td>\n",
       "    </tr>\n",
       "    <tr>\n",
       "      <th>26343</th>\n",
       "      <td>24</td>\n",
       "      <td>5</td>\n",
       "      <td>8</td>\n",
       "      <td>44.400000</td>\n",
       "      <td>21.0</td>\n",
       "      <td>0</td>\n",
       "      <td>36.0</td>\n",
       "    </tr>\n",
       "    <tr>\n",
       "      <th>10264</th>\n",
       "      <td>12</td>\n",
       "      <td>9</td>\n",
       "      <td>22</td>\n",
       "      <td>25.540468</td>\n",
       "      <td>94.0</td>\n",
       "      <td>0</td>\n",
       "      <td>25.0</td>\n",
       "    </tr>\n",
       "    <tr>\n",
       "      <th>17753</th>\n",
       "      <td>4</td>\n",
       "      <td>1</td>\n",
       "      <td>15</td>\n",
       "      <td>19.325880</td>\n",
       "      <td>88.0</td>\n",
       "      <td>0</td>\n",
       "      <td>16.0</td>\n",
       "    </tr>\n",
       "    <tr>\n",
       "      <th>98956</th>\n",
       "      <td>2</td>\n",
       "      <td>12</td>\n",
       "      <td>12</td>\n",
       "      <td>25.961348</td>\n",
       "      <td>73.0</td>\n",
       "      <td>0</td>\n",
       "      <td>25.0</td>\n",
       "    </tr>\n",
       "    <tr>\n",
       "      <th>46164</th>\n",
       "      <td>26</td>\n",
       "      <td>7</td>\n",
       "      <td>23</td>\n",
       "      <td>34.500000</td>\n",
       "      <td>79.0</td>\n",
       "      <td>0</td>\n",
       "      <td>28.0</td>\n",
       "    </tr>\n",
       "  </tbody>\n",
       "</table>\n",
       "<p>20198 rows × 7 columns</p>\n",
       "</div>"
      ],
      "text/plain": [
       "       Date  Month  Hour  heatindex  humidity  rain  temp previous\n",
       "16733    18     11     8  23.560415      21.0     0           21.0\n",
       "82934    21      4    15  26.307993      27.0     0           27.0\n",
       "33831    11      4    13  34.400386      13.0     0           37.0\n",
       "22660    14     12    19  21.838011      77.0     0           20.0\n",
       "47063    16      8    14  33.600000      89.0     0           33.0\n",
       "...     ...    ...   ...        ...       ...   ...            ...\n",
       "26343    24      5     8  44.400000      21.0     0           36.0\n",
       "10264    12      9    22  25.540468      94.0     0           25.0\n",
       "17753     4      1    15  19.325880      88.0     0           16.0\n",
       "98956     2     12    12  25.961348      73.0     0           25.0\n",
       "46164    26      7    23  34.500000      79.0     0           28.0\n",
       "\n",
       "[20198 rows x 7 columns]"
      ]
     },
     "execution_count": 26,
     "metadata": {},
     "output_type": "execute_result"
    }
   ],
   "source": [
    "test_x"
   ]
  },
  {
   "cell_type": "markdown",
   "metadata": {},
   "source": [
    "### Polynomial Regression"
   ]
  },
  {
   "cell_type": "code",
   "execution_count": 28,
   "metadata": {},
   "outputs": [],
   "source": [
    "#Polynomial Regression\n",
    "from sklearn.preprocessing import PolynomialFeatures\n",
    "poly=PolynomialFeatures(degree=4, include_bias=False)"
   ]
  },
  {
   "cell_type": "code",
   "execution_count": 29,
   "metadata": {},
   "outputs": [
    {
     "data": {
      "text/plain": [
       "LinearRegression()"
      ]
     },
     "execution_count": 29,
     "metadata": {},
     "output_type": "execute_result"
    }
   ],
   "source": [
    "x_poly=poly.fit_transform(train_x)\n",
    "lin2=LinearRegression()\n",
    "lin2.fit(x_poly,train_y)"
   ]
  },
  {
   "cell_type": "code",
   "execution_count": 30,
   "metadata": {},
   "outputs": [
    {
     "data": {
      "text/plain": [
       "3.879561757397738"
      ]
     },
     "execution_count": 30,
     "metadata": {},
     "output_type": "execute_result"
    }
   ],
   "source": [
    "prediction2 = lin2.predict(poly.fit_transform(test_x))\n",
    "#Calculating the error\n",
    "np.mean((prediction2-test_y)**2)"
   ]
  },
  {
   "cell_type": "code",
   "execution_count": 31,
   "metadata": {},
   "outputs": [
    {
     "data": {
      "text/html": [
       "<div>\n",
       "<style scoped>\n",
       "    .dataframe tbody tr th:only-of-type {\n",
       "        vertical-align: middle;\n",
       "    }\n",
       "\n",
       "    .dataframe tbody tr th {\n",
       "        vertical-align: top;\n",
       "    }\n",
       "\n",
       "    .dataframe thead th {\n",
       "        text-align: right;\n",
       "    }\n",
       "</style>\n",
       "<table border=\"1\" class=\"dataframe\">\n",
       "  <thead>\n",
       "    <tr style=\"text-align: right;\">\n",
       "      <th></th>\n",
       "      <th>actual</th>\n",
       "      <th>prediction</th>\n",
       "      <th>diff</th>\n",
       "    </tr>\n",
       "  </thead>\n",
       "  <tbody>\n",
       "    <tr>\n",
       "      <th>16733</th>\n",
       "      <td>28.0</td>\n",
       "      <td>28.649311</td>\n",
       "      <td>-0.649311</td>\n",
       "    </tr>\n",
       "    <tr>\n",
       "      <th>82934</th>\n",
       "      <td>30.0</td>\n",
       "      <td>30.980069</td>\n",
       "      <td>-0.980069</td>\n",
       "    </tr>\n",
       "    <tr>\n",
       "      <th>33831</th>\n",
       "      <td>35.0</td>\n",
       "      <td>37.307334</td>\n",
       "      <td>-2.307334</td>\n",
       "    </tr>\n",
       "    <tr>\n",
       "      <th>22660</th>\n",
       "      <td>14.0</td>\n",
       "      <td>13.337280</td>\n",
       "      <td>0.662720</td>\n",
       "    </tr>\n",
       "    <tr>\n",
       "      <th>47063</th>\n",
       "      <td>28.0</td>\n",
       "      <td>28.663852</td>\n",
       "      <td>-0.663852</td>\n",
       "    </tr>\n",
       "    <tr>\n",
       "      <th>...</th>\n",
       "      <td>...</td>\n",
       "      <td>...</td>\n",
       "      <td>...</td>\n",
       "    </tr>\n",
       "    <tr>\n",
       "      <th>26343</th>\n",
       "      <td>43.0</td>\n",
       "      <td>42.531865</td>\n",
       "      <td>0.468135</td>\n",
       "    </tr>\n",
       "    <tr>\n",
       "      <th>10264</th>\n",
       "      <td>25.0</td>\n",
       "      <td>24.870430</td>\n",
       "      <td>0.129570</td>\n",
       "    </tr>\n",
       "    <tr>\n",
       "      <th>17753</th>\n",
       "      <td>11.0</td>\n",
       "      <td>12.823711</td>\n",
       "      <td>-1.823711</td>\n",
       "    </tr>\n",
       "    <tr>\n",
       "      <th>98956</th>\n",
       "      <td>22.0</td>\n",
       "      <td>18.820612</td>\n",
       "      <td>3.179388</td>\n",
       "    </tr>\n",
       "    <tr>\n",
       "      <th>46164</th>\n",
       "      <td>29.0</td>\n",
       "      <td>28.817135</td>\n",
       "      <td>0.182865</td>\n",
       "    </tr>\n",
       "  </tbody>\n",
       "</table>\n",
       "<p>20198 rows × 3 columns</p>\n",
       "</div>"
      ],
      "text/plain": [
       "       actual  prediction      diff\n",
       "16733    28.0   28.649311 -0.649311\n",
       "82934    30.0   30.980069 -0.980069\n",
       "33831    35.0   37.307334 -2.307334\n",
       "22660    14.0   13.337280  0.662720\n",
       "47063    28.0   28.663852 -0.663852\n",
       "...       ...         ...       ...\n",
       "26343    43.0   42.531865  0.468135\n",
       "10264    25.0   24.870430  0.129570\n",
       "17753    11.0   12.823711 -1.823711\n",
       "98956    22.0   18.820612  3.179388\n",
       "46164    29.0   28.817135  0.182865\n",
       "\n",
       "[20198 rows x 3 columns]"
      ]
     },
     "execution_count": 31,
     "metadata": {},
     "output_type": "execute_result"
    }
   ],
   "source": [
    "pd.DataFrame({'actual':test_y,'prediction':prediction2,'diff':(test_y-prediction2)})"
   ]
  },
  {
   "cell_type": "code",
   "execution_count": 32,
   "metadata": {},
   "outputs": [
    {
     "data": {
      "text/plain": [
       "['nTPolynomialRegression.pkl']"
      ]
     },
     "execution_count": 32,
     "metadata": {},
     "output_type": "execute_result"
    }
   ],
   "source": [
    "#Saving the Polynomial Regression Model\n",
    "import joblib \n",
    "joblib.dump(lin2, '../Trained Models/TPolynomialRegression.pkl') \n",
    "  \n",
    "# Load the model from the file only to be uncommented when to be used \n",
    "#PR = joblib.load('PRTP.pkl')  \n",
    "  \n",
    "# Use the loaded model to make predictions \n",
    "#PR.predict(X_test)"
   ]
  },
  {
   "cell_type": "markdown",
   "metadata": {},
   "source": [
    "### Decision Trees"
   ]
  },
  {
   "cell_type": "code",
   "execution_count": 33,
   "metadata": {},
   "outputs": [
    {
     "data": {
      "text/plain": [
       "DecisionTreeRegressor(random_state=0)"
      ]
     },
     "execution_count": 33,
     "metadata": {},
     "output_type": "execute_result"
    }
   ],
   "source": [
    "#Decision Tree Model\n",
    "from sklearn.tree import DecisionTreeRegressor\n",
    "regressor = DecisionTreeRegressor(random_state=0)\n",
    "regressor.fit(train_x,train_y)"
   ]
  },
  {
   "cell_type": "code",
   "execution_count": 34,
   "metadata": {},
   "outputs": [
    {
     "name": "stdout",
     "output_type": "stream",
     "text": [
      "4.804508972285484\n",
      "[34.]\n"
     ]
    }
   ],
   "source": [
    "prediction3=regressor.predict(test_x)\n",
    "print(np.mean((prediction3-test_y)**2))\n",
    "dt=np.array([6,7,18,43,65,1,33]).reshape(1,-1)\n",
    "print(regressor.predict(dt))"
   ]
  },
  {
   "cell_type": "code",
   "execution_count": 35,
   "metadata": {},
   "outputs": [
    {
     "data": {
      "text/html": [
       "<div>\n",
       "<style scoped>\n",
       "    .dataframe tbody tr th:only-of-type {\n",
       "        vertical-align: middle;\n",
       "    }\n",
       "\n",
       "    .dataframe tbody tr th {\n",
       "        vertical-align: top;\n",
       "    }\n",
       "\n",
       "    .dataframe thead th {\n",
       "        text-align: right;\n",
       "    }\n",
       "</style>\n",
       "<table border=\"1\" class=\"dataframe\">\n",
       "  <thead>\n",
       "    <tr style=\"text-align: right;\">\n",
       "      <th></th>\n",
       "      <th>actual</th>\n",
       "      <th>prediction</th>\n",
       "      <th>diff</th>\n",
       "    </tr>\n",
       "  </thead>\n",
       "  <tbody>\n",
       "    <tr>\n",
       "      <th>16733</th>\n",
       "      <td>28.0</td>\n",
       "      <td>28.0</td>\n",
       "      <td>0.0</td>\n",
       "    </tr>\n",
       "    <tr>\n",
       "      <th>82934</th>\n",
       "      <td>30.0</td>\n",
       "      <td>31.0</td>\n",
       "      <td>-1.0</td>\n",
       "    </tr>\n",
       "    <tr>\n",
       "      <th>33831</th>\n",
       "      <td>35.0</td>\n",
       "      <td>38.0</td>\n",
       "      <td>-3.0</td>\n",
       "    </tr>\n",
       "    <tr>\n",
       "      <th>22660</th>\n",
       "      <td>14.0</td>\n",
       "      <td>17.0</td>\n",
       "      <td>-3.0</td>\n",
       "    </tr>\n",
       "    <tr>\n",
       "      <th>47063</th>\n",
       "      <td>28.0</td>\n",
       "      <td>28.0</td>\n",
       "      <td>0.0</td>\n",
       "    </tr>\n",
       "    <tr>\n",
       "      <th>...</th>\n",
       "      <td>...</td>\n",
       "      <td>...</td>\n",
       "      <td>...</td>\n",
       "    </tr>\n",
       "    <tr>\n",
       "      <th>26343</th>\n",
       "      <td>43.0</td>\n",
       "      <td>43.0</td>\n",
       "      <td>0.0</td>\n",
       "    </tr>\n",
       "    <tr>\n",
       "      <th>10264</th>\n",
       "      <td>25.0</td>\n",
       "      <td>24.5</td>\n",
       "      <td>0.5</td>\n",
       "    </tr>\n",
       "    <tr>\n",
       "      <th>17753</th>\n",
       "      <td>11.0</td>\n",
       "      <td>12.0</td>\n",
       "      <td>-1.0</td>\n",
       "    </tr>\n",
       "    <tr>\n",
       "      <th>98956</th>\n",
       "      <td>22.0</td>\n",
       "      <td>22.0</td>\n",
       "      <td>0.0</td>\n",
       "    </tr>\n",
       "    <tr>\n",
       "      <th>46164</th>\n",
       "      <td>29.0</td>\n",
       "      <td>29.0</td>\n",
       "      <td>0.0</td>\n",
       "    </tr>\n",
       "  </tbody>\n",
       "</table>\n",
       "<p>20198 rows × 3 columns</p>\n",
       "</div>"
      ],
      "text/plain": [
       "       actual  prediction  diff\n",
       "16733    28.0        28.0   0.0\n",
       "82934    30.0        31.0  -1.0\n",
       "33831    35.0        38.0  -3.0\n",
       "22660    14.0        17.0  -3.0\n",
       "47063    28.0        28.0   0.0\n",
       "...       ...         ...   ...\n",
       "26343    43.0        43.0   0.0\n",
       "10264    25.0        24.5   0.5\n",
       "17753    11.0        12.0  -1.0\n",
       "98956    22.0        22.0   0.0\n",
       "46164    29.0        29.0   0.0\n",
       "\n",
       "[20198 rows x 3 columns]"
      ]
     },
     "execution_count": 35,
     "metadata": {},
     "output_type": "execute_result"
    }
   ],
   "source": [
    "pd.DataFrame({'actual':test_y,'prediction':prediction3,'diff':(test_y-prediction3)})"
   ]
  },
  {
   "cell_type": "code",
   "execution_count": 36,
   "metadata": {},
   "outputs": [
    {
     "data": {
      "text/plain": [
       "['nTDecisionTree.pkl']"
      ]
     },
     "execution_count": 36,
     "metadata": {},
     "output_type": "execute_result"
    }
   ],
   "source": [
    "#Saving the Decision Tree\n",
    "joblib.dump(regressor, '../Trained Models/TDecisionTree.pkl') \n",
    "\n",
    "# Load the model from the file only to be uncommented when to be used \n",
    "#DT = joblib.load('TDecision.pkl')  \n",
    "  \n",
    "# Use the loaded model to make predictions \n",
    "#DT.predict(X_test)"
   ]
  },
  {
   "cell_type": "markdown",
   "metadata": {},
   "source": [
    "### Random Forest"
   ]
  },
  {
   "cell_type": "code",
   "execution_count": 37,
   "metadata": {},
   "outputs": [
    {
     "data": {
      "text/plain": [
       "RandomForestRegressor(max_depth=60, random_state=0)"
      ]
     },
     "execution_count": 37,
     "metadata": {},
     "output_type": "execute_result"
    }
   ],
   "source": [
    "#Random Forest Model\n",
    "from sklearn.ensemble import RandomForestRegressor\n",
    "regr=RandomForestRegressor(max_depth=60,random_state=0,n_estimators=100)\n",
    "regr.fit(train_x,train_y)"
   ]
  },
  {
   "cell_type": "code",
   "execution_count": 38,
   "metadata": {},
   "outputs": [
    {
     "data": {
      "text/plain": [
       "2.551942819227672"
      ]
     },
     "execution_count": 38,
     "metadata": {},
     "output_type": "execute_result"
    }
   ],
   "source": [
    "prediction4=regr.predict(test_x)\n",
    "np.mean((prediction4-test_y)**2)"
   ]
  },
  {
   "cell_type": "code",
   "execution_count": 39,
   "metadata": {},
   "outputs": [
    {
     "data": {
      "text/plain": [
       "array([32.95])"
      ]
     },
     "execution_count": 39,
     "metadata": {},
     "output_type": "execute_result"
    }
   ],
   "source": [
    "regr.predict(dt)"
   ]
  },
  {
   "cell_type": "code",
   "execution_count": 40,
   "metadata": {},
   "outputs": [
    {
     "data": {
      "text/html": [
       "<div>\n",
       "<style scoped>\n",
       "    .dataframe tbody tr th:only-of-type {\n",
       "        vertical-align: middle;\n",
       "    }\n",
       "\n",
       "    .dataframe tbody tr th {\n",
       "        vertical-align: top;\n",
       "    }\n",
       "\n",
       "    .dataframe thead th {\n",
       "        text-align: right;\n",
       "    }\n",
       "</style>\n",
       "<table border=\"1\" class=\"dataframe\">\n",
       "  <thead>\n",
       "    <tr style=\"text-align: right;\">\n",
       "      <th></th>\n",
       "      <th>actual</th>\n",
       "      <th>prediction</th>\n",
       "      <th>diff</th>\n",
       "    </tr>\n",
       "  </thead>\n",
       "  <tbody>\n",
       "    <tr>\n",
       "      <th>16733</th>\n",
       "      <td>28.0</td>\n",
       "      <td>29.280000</td>\n",
       "      <td>-1.280000</td>\n",
       "    </tr>\n",
       "    <tr>\n",
       "      <th>82934</th>\n",
       "      <td>30.0</td>\n",
       "      <td>31.560000</td>\n",
       "      <td>-1.560000</td>\n",
       "    </tr>\n",
       "    <tr>\n",
       "      <th>33831</th>\n",
       "      <td>35.0</td>\n",
       "      <td>35.900000</td>\n",
       "      <td>-0.900000</td>\n",
       "    </tr>\n",
       "    <tr>\n",
       "      <th>22660</th>\n",
       "      <td>14.0</td>\n",
       "      <td>16.030000</td>\n",
       "      <td>-2.030000</td>\n",
       "    </tr>\n",
       "    <tr>\n",
       "      <th>47063</th>\n",
       "      <td>28.0</td>\n",
       "      <td>28.000000</td>\n",
       "      <td>0.000000</td>\n",
       "    </tr>\n",
       "    <tr>\n",
       "      <th>...</th>\n",
       "      <td>...</td>\n",
       "      <td>...</td>\n",
       "      <td>...</td>\n",
       "    </tr>\n",
       "    <tr>\n",
       "      <th>26343</th>\n",
       "      <td>43.0</td>\n",
       "      <td>43.010000</td>\n",
       "      <td>-0.010000</td>\n",
       "    </tr>\n",
       "    <tr>\n",
       "      <th>10264</th>\n",
       "      <td>25.0</td>\n",
       "      <td>24.603333</td>\n",
       "      <td>0.396667</td>\n",
       "    </tr>\n",
       "    <tr>\n",
       "      <th>17753</th>\n",
       "      <td>11.0</td>\n",
       "      <td>12.450000</td>\n",
       "      <td>-1.450000</td>\n",
       "    </tr>\n",
       "    <tr>\n",
       "      <th>98956</th>\n",
       "      <td>22.0</td>\n",
       "      <td>19.660000</td>\n",
       "      <td>2.340000</td>\n",
       "    </tr>\n",
       "    <tr>\n",
       "      <th>46164</th>\n",
       "      <td>29.0</td>\n",
       "      <td>28.980000</td>\n",
       "      <td>0.020000</td>\n",
       "    </tr>\n",
       "  </tbody>\n",
       "</table>\n",
       "<p>20198 rows × 3 columns</p>\n",
       "</div>"
      ],
      "text/plain": [
       "       actual  prediction      diff\n",
       "16733    28.0   29.280000 -1.280000\n",
       "82934    30.0   31.560000 -1.560000\n",
       "33831    35.0   35.900000 -0.900000\n",
       "22660    14.0   16.030000 -2.030000\n",
       "47063    28.0   28.000000  0.000000\n",
       "...       ...         ...       ...\n",
       "26343    43.0   43.010000 -0.010000\n",
       "10264    25.0   24.603333  0.396667\n",
       "17753    11.0   12.450000 -1.450000\n",
       "98956    22.0   19.660000  2.340000\n",
       "46164    29.0   28.980000  0.020000\n",
       "\n",
       "[20198 rows x 3 columns]"
      ]
     },
     "execution_count": 40,
     "metadata": {},
     "output_type": "execute_result"
    }
   ],
   "source": [
    "pd.DataFrame({'actual':test_y,'prediction':prediction4,'diff':(test_y-prediction4)})"
   ]
  },
  {
   "cell_type": "code",
   "execution_count": 42,
   "metadata": {},
   "outputs": [
    {
     "data": {
      "text/plain": [
       "['nTRandomForest.pkl']"
      ]
     },
     "execution_count": 42,
     "metadata": {},
     "output_type": "execute_result"
    }
   ],
   "source": [
    "import joblib \n",
    "  \n",
    "# Save the model as a pickle in a file \n",
    "joblib.dump(regr, '../Trained Models/TRandomForest.pkl') \n",
    "  \n",
    "# Load the model from the file only to be uncommented when to be used \n",
    "#RF = joblib.load('TRandomForest.pkl')  \n",
    "  \n",
    "# Use the loaded model to make predictions \n",
    "#TEMP.predict(X_test)"
   ]
  },
  {
   "cell_type": "code",
   "execution_count": 43,
   "metadata": {},
   "outputs": [
    {
     "data": {
      "text/plain": [
       "<matplotlib.collections.PathCollection at 0x7fbff97ac7c0>"
      ]
     },
     "execution_count": 43,
     "metadata": {},
     "output_type": "execute_result"
    },
    {
     "data": {
      "image/png": "[encoded data removed]",
      "text/plain": [
       "<Figure size 432x288 with 1 Axes>"
      ]
     },
     "metadata": {
      "needs_background": "light"
     },
     "output_type": "display_data"
    }
   ],
   "source": [
    "plt.scatter(prediction4,test_y)"
   ]
  },
  {
   "cell_type": "markdown",
   "metadata": {},
   "source": [
    "## Iterating through individual predictions"
   ]
  },
  {
   "cell_type": "code",
   "execution_count": 44,
   "metadata": {},
   "outputs": [],
   "source": [
    "from datetime import datetime\n",
    "datetime.today()\n",
    "date=datetime.now()"
   ]
  },
  {
   "cell_type": "code",
   "execution_count": 45,
   "metadata": {},
   "outputs": [
    {
     "name": "stdout",
     "output_type": "stream",
     "text": [
      "20 15 3\n"
     ]
    }
   ],
   "source": [
    "D=date.day\n",
    "H=date.hour\n",
    "M=date.month\n",
    "print(D,H,M)"
   ]
  },
  {
   "cell_type": "code",
   "execution_count": 48,
   "metadata": {},
   "outputs": [],
   "source": [
    "#For hourly, daily, weekly and min max temp details\n",
    "L=[]\n",
    "import random\n",
    "D=date.day\n",
    "H=date.hour\n",
    "M=date.month\n",
    "tp=33\n",
    "for d in range(1,15):\n",
    "    for h in range(1,25):\n",
    "        para=np.array([D,M,H,48,45,0,tp]).reshape(1,-1)\n",
    "        p=tlrmodel.predict(para)\n",
    "        #print(p,H,D,M)\n",
    "        tp=list(p)[0]\n",
    "        H+=1\n",
    "        if H==24:\n",
    "            H=0\n",
    "            h=24\n",
    "            D+=1\n",
    "        if D==31:\n",
    "            M+=1\n",
    "            D=1\n",
    "        \n"
   ]
  }
 ],
 "metadata": {
  "kernelspec": {
   "display_name": "Python 3 (ipykernel)",
   "language": "python",
   "name": "python3"
  },
  "language_info": {
   "codemirror_mode": {
    "name": "ipython",
    "version": 3
   },
   "file_extension": ".py",
   "mimetype": "text/x-python",
   "name": "python",
   "nbconvert_exporter": "python",
   "pygments_lexer": "ipython3",
   "version": "3.9.7"
  }
 },
 "nbformat": 4,
 "nbformat_minor": 2
}
